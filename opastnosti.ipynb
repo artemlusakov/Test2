{
 "cells": [
  {
   "cell_type": "markdown",
   "id": "cd3a3a4a",
   "metadata": {},
   "source": [
    "# Определение уровня опасности на дорогах\n",
    "практика по машиному обучению"
   ]
  },
  {
   "cell_type": "markdown",
   "id": "3a88e960",
   "metadata": {},
   "source": [
    "Импортируем библиотеки"
   ]
  },
  {
   "cell_type": "code",
   "execution_count": 1,
   "id": "d5d99963",
   "metadata": {},
   "outputs": [],
   "source": [
    "import geopandas as gpd \n",
    "import pandas as pd\n",
    "import numpy as np\n",
    "from sklearn.preprocessing import LabelEncoder\n",
    "import os"
   ]
  },
  {
   "cell_type": "markdown",
   "id": "fe693b14",
   "metadata": {},
   "source": [
    "### Получим обратимся к файлам в нашей папке REGIONS"
   ]
  },
  {
   "cell_type": "code",
   "execution_count": 2,
   "id": "8e71a235",
   "metadata": {},
   "outputs": [],
   "source": [
    "file_list = os.listdir('./REGIONS')"
   ]
  },
  {
   "cell_type": "markdown",
   "id": "1b985a71",
   "metadata": {},
   "source": [
    "Проверим результат:"
   ]
  },
  {
   "cell_type": "code",
   "execution_count": 3,
   "id": "f581f1ff",
   "metadata": {
    "scrolled": true
   },
   "outputs": [
    {
     "data": {
      "text/plain": [
       "['altaiskii-krai.geojson',\n",
       " 'amurskaia-oblast.geojson',\n",
       " 'arkhangelskaia-oblast.geojson',\n",
       " 'astrakhanskaia-oblast.geojson',\n",
       " 'belgorodskaia-oblast.geojson',\n",
       " 'brianskaia-oblast.geojson',\n",
       " 'chechenskaia-respublika.geojson',\n",
       " 'cheliabinskaia-oblast.geojson',\n",
       " 'chukotskii-avtonomnyi-okrug.geojson',\n",
       " 'chuvashskaia-respublika-chuvashiia.geojson',\n",
       " 'evreiskaia-avtonomnaia-oblast.geojson',\n",
       " 'iamalo-nenetskii-avtonomnyi-okrug.geojson',\n",
       " 'iaroslavskaia-oblast.geojson',\n",
       " 'irkutskaia-oblast.geojson',\n",
       " 'ivanovskaia-oblast.geojson',\n",
       " 'kabardino-balkarskaia-respublika.geojson',\n",
       " 'kaliningradskaia-oblast.geojson',\n",
       " 'kaluzhskaia-oblast.geojson',\n",
       " 'kamchatskii-krai.geojson',\n",
       " 'karachaevo-cherkesskaia-respublika.geojson',\n",
       " 'kemerovskaia-oblast-kuzbass.geojson',\n",
       " 'khabarovskii-krai.geojson',\n",
       " 'khanty-mansiiskii-avtonomnyi-okrug-iugra.geojson',\n",
       " 'kirovskaia-oblast.geojson',\n",
       " 'kostromskaia-oblast.geojson',\n",
       " 'krasnodarskii-krai.geojson',\n",
       " 'krasnoiarskii-krai.geojson',\n",
       " 'kurganskaia-oblast.geojson',\n",
       " 'kurskaia-oblast.geojson',\n",
       " 'leningradskaia-oblast.geojson',\n",
       " 'lipetskaia-oblast.geojson',\n",
       " 'magadanskaia-oblast.geojson',\n",
       " 'moskovskaia-oblast.geojson',\n",
       " 'moskva.geojson',\n",
       " 'murmanskaia-oblast.geojson',\n",
       " 'nenetskii-avtonomnyi-okrug.geojson',\n",
       " 'nizhegorodskaia-oblast.geojson',\n",
       " 'novgorodskaia-oblast.geojson',\n",
       " 'novosibirskaia-oblast.geojson',\n",
       " 'omskaia-oblast.geojson',\n",
       " 'orenburgskaia-oblast.geojson',\n",
       " 'orlovskaia-oblast.geojson',\n",
       " 'penzenskaia-oblast.geojson',\n",
       " 'permskii-krai.geojson',\n",
       " 'primorskii-krai.geojson',\n",
       " 'pskovskaia-oblast.geojson',\n",
       " 'respublika-adygeia-adygeia.geojson',\n",
       " 'respublika-altai.geojson',\n",
       " 'respublika-bashkortostan.geojson',\n",
       " 'respublika-buriatiia.geojson',\n",
       " 'respublika-dagestan.geojson',\n",
       " 'respublika-ingushetiia.geojson',\n",
       " 'respublika-kalmykiia.geojson',\n",
       " 'respublika-kareliia.geojson',\n",
       " 'respublika-khakasiia.geojson',\n",
       " 'respublika-komi.geojson',\n",
       " 'respublika-krym.geojson',\n",
       " 'respublika-marii-el.geojson',\n",
       " 'respublika-mordoviia.geojson',\n",
       " 'respublika-sakha-iakutiia.geojson',\n",
       " 'respublika-severnaia-osetiia-alaniia.geojson',\n",
       " 'respublika-tatarstan-tatarstan.geojson',\n",
       " 'respublika-tyva.geojson',\n",
       " 'riazanskaia-oblast.geojson',\n",
       " 'rostovskaia-oblast.geojson',\n",
       " 'sakhalinskaia-oblast.geojson',\n",
       " 'samarskaia-oblast.geojson',\n",
       " 'sankt-peterburg.geojson',\n",
       " 'saratovskaia-oblast.geojson',\n",
       " 'sevastopol.geojson',\n",
       " 'smolenskaia-oblast.geojson',\n",
       " 'stavropolskii-krai.geojson',\n",
       " 'sverdlovskaia-oblast.geojson',\n",
       " 'tambovskaia-oblast.geojson',\n",
       " 'tiumenskaia-oblast.geojson',\n",
       " 'tomskaia-oblast.geojson',\n",
       " 'tulskaia-oblast.geojson',\n",
       " 'tverskaia-oblast.geojson',\n",
       " 'udmurtskaia-respublika.geojson',\n",
       " 'ulianovskaia-oblast.geojson',\n",
       " 'vladimirskaia-oblast.geojson',\n",
       " 'volgogradskaia-oblast.geojson',\n",
       " 'vologodskaia-oblast.geojson',\n",
       " 'voronezhskaia-oblast.geojson',\n",
       " 'zabaikalskii-krai.geojson']"
      ]
     },
     "execution_count": 3,
     "metadata": {},
     "output_type": "execute_result"
    }
   ],
   "source": [
    "file_list"
   ]
  },
  {
   "cell_type": "markdown",
   "id": "037c4c29",
   "metadata": {},
   "source": [
    "### Получив доступ к файлу можем поместить его в массив DataFrame\n",
    "С помощью цикла For перенесём данные из файлов в DataFrame"
   ]
  },
  {
   "cell_type": "code",
   "execution_count": 4,
   "id": "e8569b0f",
   "metadata": {},
   "outputs": [],
   "source": [
    "dfFull = pd.DataFrame()"
   ]
  },
  {
   "cell_type": "code",
   "execution_count": 94,
   "id": "a0572f46",
   "metadata": {},
   "outputs": [
    {
     "name": "stderr",
     "output_type": "stream",
     "text": [
      "C:\\Users\\sprae\\anaconda3\\lib\\site-packages\\geopandas\\array.py:1406: UserWarning: CRS not set for some of the concatenation inputs. Setting output's CRS as WGS 84 (the single non-null crs provided).\n",
      "  warnings.warn(\n"
     ]
    },
    {
     "ename": "KeyboardInterrupt",
     "evalue": "",
     "output_type": "error",
     "traceback": [
      "\u001b[1;31m---------------------------------------------------------------------------\u001b[0m",
      "\u001b[1;31mKeyboardInterrupt\u001b[0m                         Traceback (most recent call last)",
      "\u001b[1;32m~\\AppData\\Local\\Temp\\ipykernel_8800\\3482936172.py\u001b[0m in \u001b[0;36m<module>\u001b[1;34m\u001b[0m\n\u001b[0;32m      1\u001b[0m \u001b[1;32mfor\u001b[0m \u001b[0mi\u001b[0m \u001b[1;32min\u001b[0m \u001b[0mrange\u001b[0m\u001b[1;33m(\u001b[0m\u001b[1;36m0\u001b[0m\u001b[1;33m,\u001b[0m \u001b[0mlen\u001b[0m\u001b[1;33m(\u001b[0m\u001b[0mfile_list\u001b[0m\u001b[1;33m)\u001b[0m\u001b[1;33m)\u001b[0m\u001b[1;33m:\u001b[0m\u001b[1;33m\u001b[0m\u001b[1;33m\u001b[0m\u001b[0m\n\u001b[1;32m----> 2\u001b[1;33m     \u001b[0mdf\u001b[0m \u001b[1;33m=\u001b[0m \u001b[0mgpd\u001b[0m\u001b[1;33m.\u001b[0m\u001b[0mread_file\u001b[0m\u001b[1;33m(\u001b[0m\u001b[1;34m\"./REGIONS/\"\u001b[0m\u001b[1;33m+\u001b[0m\u001b[0mfile_list\u001b[0m\u001b[1;33m[\u001b[0m\u001b[0mi\u001b[0m\u001b[1;33m]\u001b[0m\u001b[1;33m)\u001b[0m\u001b[1;33m\u001b[0m\u001b[1;33m\u001b[0m\u001b[0m\n\u001b[0m\u001b[0;32m      3\u001b[0m     \u001b[0mdfFull\u001b[0m \u001b[1;33m=\u001b[0m \u001b[0mpd\u001b[0m\u001b[1;33m.\u001b[0m\u001b[0mconcat\u001b[0m\u001b[1;33m(\u001b[0m\u001b[1;33m[\u001b[0m\u001b[0mdfFull\u001b[0m\u001b[1;33m,\u001b[0m \u001b[0mdf\u001b[0m\u001b[1;33m.\u001b[0m\u001b[0mhead\u001b[0m\u001b[1;33m(\u001b[0m\u001b[0mint\u001b[0m\u001b[1;33m(\u001b[0m\u001b[0mdf\u001b[0m\u001b[1;33m.\u001b[0m\u001b[0mshape\u001b[0m\u001b[1;33m[\u001b[0m\u001b[1;36m0\u001b[0m\u001b[1;33m]\u001b[0m\u001b[1;33m/\u001b[0m\u001b[1;36m10\u001b[0m\u001b[1;33m)\u001b[0m\u001b[1;33m)\u001b[0m\u001b[1;33m]\u001b[0m\u001b[1;33m,\u001b[0m \u001b[0mignore_index\u001b[0m\u001b[1;33m=\u001b[0m\u001b[1;32mTrue\u001b[0m\u001b[1;33m)\u001b[0m\u001b[1;33m\u001b[0m\u001b[1;33m\u001b[0m\u001b[0m\n",
      "\u001b[1;32m~\\anaconda3\\lib\\site-packages\\geopandas\\io\\file.py\u001b[0m in \u001b[0;36m_read_file\u001b[1;34m(filename, bbox, mask, rows, engine, **kwargs)\u001b[0m\n\u001b[0;32m    257\u001b[0m \u001b[1;33m\u001b[0m\u001b[0m\n\u001b[0;32m    258\u001b[0m     \u001b[1;32mif\u001b[0m \u001b[0mengine\u001b[0m \u001b[1;33m==\u001b[0m \u001b[1;34m\"fiona\"\u001b[0m\u001b[1;33m:\u001b[0m\u001b[1;33m\u001b[0m\u001b[1;33m\u001b[0m\u001b[0m\n\u001b[1;32m--> 259\u001b[1;33m         return _read_file_fiona(\n\u001b[0m\u001b[0;32m    260\u001b[0m             \u001b[0mpath_or_bytes\u001b[0m\u001b[1;33m,\u001b[0m \u001b[0mfrom_bytes\u001b[0m\u001b[1;33m,\u001b[0m \u001b[0mbbox\u001b[0m\u001b[1;33m=\u001b[0m\u001b[0mbbox\u001b[0m\u001b[1;33m,\u001b[0m \u001b[0mmask\u001b[0m\u001b[1;33m=\u001b[0m\u001b[0mmask\u001b[0m\u001b[1;33m,\u001b[0m \u001b[0mrows\u001b[0m\u001b[1;33m=\u001b[0m\u001b[0mrows\u001b[0m\u001b[1;33m,\u001b[0m \u001b[1;33m**\u001b[0m\u001b[0mkwargs\u001b[0m\u001b[1;33m\u001b[0m\u001b[1;33m\u001b[0m\u001b[0m\n\u001b[0;32m    261\u001b[0m         )\n",
      "\u001b[1;32m~\\anaconda3\\lib\\site-packages\\geopandas\\io\\file.py\u001b[0m in \u001b[0;36m_read_file_fiona\u001b[1;34m(path_or_bytes, from_bytes, bbox, mask, rows, where, **kwargs)\u001b[0m\n\u001b[0;32m    301\u001b[0m \u001b[1;33m\u001b[0m\u001b[0m\n\u001b[0;32m    302\u001b[0m     \u001b[1;32mwith\u001b[0m \u001b[0mfiona_env\u001b[0m\u001b[1;33m(\u001b[0m\u001b[1;33m)\u001b[0m\u001b[1;33m:\u001b[0m\u001b[1;33m\u001b[0m\u001b[1;33m\u001b[0m\u001b[0m\n\u001b[1;32m--> 303\u001b[1;33m         \u001b[1;32mwith\u001b[0m \u001b[0mreader\u001b[0m\u001b[1;33m(\u001b[0m\u001b[0mpath_or_bytes\u001b[0m\u001b[1;33m,\u001b[0m \u001b[1;33m**\u001b[0m\u001b[0mkwargs\u001b[0m\u001b[1;33m)\u001b[0m \u001b[1;32mas\u001b[0m \u001b[0mfeatures\u001b[0m\u001b[1;33m:\u001b[0m\u001b[1;33m\u001b[0m\u001b[1;33m\u001b[0m\u001b[0m\n\u001b[0m\u001b[0;32m    304\u001b[0m             \u001b[0mcrs\u001b[0m \u001b[1;33m=\u001b[0m \u001b[0mfeatures\u001b[0m\u001b[1;33m.\u001b[0m\u001b[0mcrs_wkt\u001b[0m\u001b[1;33m\u001b[0m\u001b[1;33m\u001b[0m\u001b[0m\n\u001b[0;32m    305\u001b[0m             \u001b[1;31m# attempt to get EPSG code\u001b[0m\u001b[1;33m\u001b[0m\u001b[1;33m\u001b[0m\u001b[0m\n",
      "\u001b[1;32m~\\anaconda3\\lib\\site-packages\\fiona\\env.py\u001b[0m in \u001b[0;36mwrapper\u001b[1;34m(*args, **kwargs)\u001b[0m\n\u001b[0;32m    406\u001b[0m     \u001b[1;32mdef\u001b[0m \u001b[0mwrapper\u001b[0m\u001b[1;33m(\u001b[0m\u001b[1;33m*\u001b[0m\u001b[0margs\u001b[0m\u001b[1;33m,\u001b[0m \u001b[1;33m**\u001b[0m\u001b[0mkwargs\u001b[0m\u001b[1;33m)\u001b[0m\u001b[1;33m:\u001b[0m\u001b[1;33m\u001b[0m\u001b[1;33m\u001b[0m\u001b[0m\n\u001b[0;32m    407\u001b[0m         \u001b[1;32mif\u001b[0m \u001b[0mlocal\u001b[0m\u001b[1;33m.\u001b[0m\u001b[0m_env\u001b[0m\u001b[1;33m:\u001b[0m\u001b[1;33m\u001b[0m\u001b[1;33m\u001b[0m\u001b[0m\n\u001b[1;32m--> 408\u001b[1;33m             \u001b[1;32mreturn\u001b[0m \u001b[0mf\u001b[0m\u001b[1;33m(\u001b[0m\u001b[1;33m*\u001b[0m\u001b[0margs\u001b[0m\u001b[1;33m,\u001b[0m \u001b[1;33m**\u001b[0m\u001b[0mkwargs\u001b[0m\u001b[1;33m)\u001b[0m\u001b[1;33m\u001b[0m\u001b[1;33m\u001b[0m\u001b[0m\n\u001b[0m\u001b[0;32m    409\u001b[0m         \u001b[1;32melse\u001b[0m\u001b[1;33m:\u001b[0m\u001b[1;33m\u001b[0m\u001b[1;33m\u001b[0m\u001b[0m\n\u001b[0;32m    410\u001b[0m             \u001b[1;32mif\u001b[0m \u001b[0misinstance\u001b[0m\u001b[1;33m(\u001b[0m\u001b[0margs\u001b[0m\u001b[1;33m[\u001b[0m\u001b[1;36m0\u001b[0m\u001b[1;33m]\u001b[0m\u001b[1;33m,\u001b[0m \u001b[0mstr\u001b[0m\u001b[1;33m)\u001b[0m\u001b[1;33m:\u001b[0m\u001b[1;33m\u001b[0m\u001b[1;33m\u001b[0m\u001b[0m\n",
      "\u001b[1;32m~\\anaconda3\\lib\\site-packages\\fiona\\__init__.py\u001b[0m in \u001b[0;36mopen\u001b[1;34m(fp, mode, driver, schema, crs, encoding, layer, vfs, enabled_drivers, crs_wkt, **kwargs)\u001b[0m\n\u001b[0;32m    284\u001b[0m \u001b[1;33m\u001b[0m\u001b[0m\n\u001b[0;32m    285\u001b[0m         \u001b[1;32mif\u001b[0m \u001b[0mmode\u001b[0m \u001b[1;32min\u001b[0m \u001b[1;33m(\u001b[0m\u001b[1;34m'a'\u001b[0m\u001b[1;33m,\u001b[0m \u001b[1;34m'r'\u001b[0m\u001b[1;33m)\u001b[0m\u001b[1;33m:\u001b[0m\u001b[1;33m\u001b[0m\u001b[1;33m\u001b[0m\u001b[0m\n\u001b[1;32m--> 286\u001b[1;33m             c = Collection(path, mode, driver=driver, encoding=encoding,\n\u001b[0m\u001b[0;32m    287\u001b[0m                            layer=layer, enabled_drivers=enabled_drivers, **kwargs)\n\u001b[0;32m    288\u001b[0m         \u001b[1;32melif\u001b[0m \u001b[0mmode\u001b[0m \u001b[1;33m==\u001b[0m \u001b[1;34m'w'\u001b[0m\u001b[1;33m:\u001b[0m\u001b[1;33m\u001b[0m\u001b[1;33m\u001b[0m\u001b[0m\n",
      "\u001b[1;32m~\\anaconda3\\lib\\site-packages\\fiona\\collection.py\u001b[0m in \u001b[0;36m__init__\u001b[1;34m(self, path, mode, driver, schema, crs, encoding, layer, vsi, archive, enabled_drivers, crs_wkt, ignore_fields, ignore_geometry, **kwargs)\u001b[0m\n\u001b[0;32m    163\u001b[0m             \u001b[1;32melif\u001b[0m \u001b[0mself\u001b[0m\u001b[1;33m.\u001b[0m\u001b[0mmode\u001b[0m \u001b[1;32min\u001b[0m \u001b[1;33m(\u001b[0m\u001b[1;34m'a'\u001b[0m\u001b[1;33m,\u001b[0m \u001b[1;34m'w'\u001b[0m\u001b[1;33m)\u001b[0m\u001b[1;33m:\u001b[0m\u001b[1;33m\u001b[0m\u001b[1;33m\u001b[0m\u001b[0m\n\u001b[0;32m    164\u001b[0m                 \u001b[0mself\u001b[0m\u001b[1;33m.\u001b[0m\u001b[0msession\u001b[0m \u001b[1;33m=\u001b[0m \u001b[0mWritingSession\u001b[0m\u001b[1;33m(\u001b[0m\u001b[1;33m)\u001b[0m\u001b[1;33m\u001b[0m\u001b[1;33m\u001b[0m\u001b[0m\n\u001b[1;32m--> 165\u001b[1;33m                 \u001b[0mself\u001b[0m\u001b[1;33m.\u001b[0m\u001b[0msession\u001b[0m\u001b[1;33m.\u001b[0m\u001b[0mstart\u001b[0m\u001b[1;33m(\u001b[0m\u001b[0mself\u001b[0m\u001b[1;33m,\u001b[0m \u001b[1;33m**\u001b[0m\u001b[0mkwargs\u001b[0m\u001b[1;33m)\u001b[0m\u001b[1;33m\u001b[0m\u001b[1;33m\u001b[0m\u001b[0m\n\u001b[0m\u001b[0;32m    166\u001b[0m         \u001b[1;32mexcept\u001b[0m \u001b[0mIOError\u001b[0m\u001b[1;33m:\u001b[0m\u001b[1;33m\u001b[0m\u001b[1;33m\u001b[0m\u001b[0m\n\u001b[0;32m    167\u001b[0m             \u001b[0mself\u001b[0m\u001b[1;33m.\u001b[0m\u001b[0msession\u001b[0m \u001b[1;33m=\u001b[0m \u001b[1;32mNone\u001b[0m\u001b[1;33m\u001b[0m\u001b[1;33m\u001b[0m\u001b[0m\n",
      "\u001b[1;31mKeyboardInterrupt\u001b[0m: "
     ]
    }
   ],
   "source": [
    "for i in range(0, len(file_list)):\n",
    "    df = gpd.read_file(\"./REGIONS/\"+file_list[i])\n",
    "    dfFull = pd.concat([dfFull, df.head(int(df.shape[0]/10))], ignore_index=True)"
   ]
  },
  {
   "cell_type": "markdown",
   "id": "2f1cdc60",
   "metadata": {},
   "source": [
    "## Проверим полученый результат:"
   ]
  },
  {
   "cell_type": "code",
   "execution_count": 6,
   "id": "2a8acae0",
   "metadata": {
    "scrolled": true
   },
   "outputs": [
    {
     "data": {
      "text/html": [
       "<div>\n",
       "<style scoped>\n",
       "    .dataframe tbody tr th:only-of-type {\n",
       "        vertical-align: middle;\n",
       "    }\n",
       "\n",
       "    .dataframe tbody tr th {\n",
       "        vertical-align: top;\n",
       "    }\n",
       "\n",
       "    .dataframe thead th {\n",
       "        text-align: right;\n",
       "    }\n",
       "</style>\n",
       "<table border=\"1\" class=\"dataframe\">\n",
       "  <thead>\n",
       "    <tr style=\"text-align: right;\">\n",
       "      <th></th>\n",
       "      <th>id</th>\n",
       "      <th>gibdd_id</th>\n",
       "      <th>point</th>\n",
       "      <th>severity</th>\n",
       "      <th>region</th>\n",
       "      <th>parent_region</th>\n",
       "      <th>datetime</th>\n",
       "      <th>address</th>\n",
       "      <th>participants_count</th>\n",
       "      <th>injured_count</th>\n",
       "      <th>dead_count</th>\n",
       "      <th>category</th>\n",
       "      <th>light</th>\n",
       "      <th>nearby</th>\n",
       "      <th>vehicles</th>\n",
       "      <th>participants</th>\n",
       "      <th>scheme</th>\n",
       "      <th>geometry</th>\n",
       "    </tr>\n",
       "  </thead>\n",
       "  <tbody>\n",
       "    <tr>\n",
       "      <th>0</th>\n",
       "      <td>2312860</td>\n",
       "      <td>191156006</td>\n",
       "      <td>{'lat': 53.7754, 'long': 82.6678}</td>\n",
       "      <td>Легкий</td>\n",
       "      <td>Павловский район</td>\n",
       "      <td>Алтайский край</td>\n",
       "      <td>2016-02-16 21:50:00</td>\n",
       "      <td>Барнаул - Камень-на-Оби - граница Новосибирско...</td>\n",
       "      <td>3</td>\n",
       "      <td>1</td>\n",
       "      <td>0</td>\n",
       "      <td>Столкновение</td>\n",
       "      <td>В темное время суток, освещение отсутствует</td>\n",
       "      <td>[ ]</td>\n",
       "      <td>[ { \"brand\": \"NISSAN\", \"model\": \"Serena\", \"col...</td>\n",
       "      <td>[ ]</td>\n",
       "      <td>210</td>\n",
       "      <td>POINT (82.66780 53.77540)</td>\n",
       "    </tr>\n",
       "    <tr>\n",
       "      <th>1</th>\n",
       "      <td>2308403</td>\n",
       "      <td>213560316</td>\n",
       "      <td>{'lat': 53.320377, 'long': 82.917423}</td>\n",
       "      <td>Тяжёлый</td>\n",
       "      <td>Павловский район</td>\n",
       "      <td>Алтайский край</td>\n",
       "      <td>2018-11-03 11:00:00</td>\n",
       "      <td>Павловск - Ребриха - Буканское, 65 км</td>\n",
       "      <td>4</td>\n",
       "      <td>2</td>\n",
       "      <td>0</td>\n",
       "      <td>Столкновение</td>\n",
       "      <td>Светлое время суток</td>\n",
       "      <td>[ ]</td>\n",
       "      <td>[ { \"brand\": \"ВАЗ\", \"model\": \"ВАЗ 2110, 21101,...</td>\n",
       "      <td>[ ]</td>\n",
       "      <td>220</td>\n",
       "      <td>POINT (82.91742 53.32038)</td>\n",
       "    </tr>\n",
       "    <tr>\n",
       "      <th>2</th>\n",
       "      <td>2321883</td>\n",
       "      <td>203850213</td>\n",
       "      <td>{'lat': 51.4528, 'long': 81.1606}</td>\n",
       "      <td>Тяжёлый</td>\n",
       "      <td>Рубцовский район</td>\n",
       "      <td>Алтайский край</td>\n",
       "      <td>2017-02-08 16:50:00</td>\n",
       "      <td>А-322 Барнаул - Рубцовск - граница с Республик...</td>\n",
       "      <td>3</td>\n",
       "      <td>1</td>\n",
       "      <td>0</td>\n",
       "      <td>Столкновение</td>\n",
       "      <td>Светлое время суток</td>\n",
       "      <td>[ \"Нерегулируемый перекрёсток неравнозначных у...</td>\n",
       "      <td>[ { \"brand\": \"ВАЗ\", \"model\": \" Жигули  ВАЗ-210...</td>\n",
       "      <td>[ ]</td>\n",
       "      <td>300</td>\n",
       "      <td>POINT (81.16060 51.45280)</td>\n",
       "    </tr>\n",
       "    <tr>\n",
       "      <th>3</th>\n",
       "      <td>2489751</td>\n",
       "      <td>220889161</td>\n",
       "      <td>{'lat': 53.053222, 'long': 83.84285}</td>\n",
       "      <td>Легкий</td>\n",
       "      <td>Первомайский район</td>\n",
       "      <td>Алтайский край</td>\n",
       "      <td>2020-09-11 14:12:00</td>\n",
       "      <td>Фирсово - Бобровка - Рассказиха - Нижняя Петро...</td>\n",
       "      <td>3</td>\n",
       "      <td>1</td>\n",
       "      <td>0</td>\n",
       "      <td>Столкновение</td>\n",
       "      <td>Светлое время суток</td>\n",
       "      <td>[ \"Нерегулируемый перекрёсток неравнозначных у...</td>\n",
       "      <td>[ { \"brand\": \"TOYOTA\", \"model\": \"Corolla\", \"co...</td>\n",
       "      <td>[ ]</td>\n",
       "      <td>430</td>\n",
       "      <td>POINT (83.84285 53.05322)</td>\n",
       "    </tr>\n",
       "    <tr>\n",
       "      <th>4</th>\n",
       "      <td>2321602</td>\n",
       "      <td>205535141</td>\n",
       "      <td>{'lat': 53.1725, 'long': 83.4232}</td>\n",
       "      <td>Тяжёлый</td>\n",
       "      <td>Барнаул</td>\n",
       "      <td>Алтайский край</td>\n",
       "      <td>2017-06-26 14:00:00</td>\n",
       "      <td>г Барнаул, Объездная дорога в обход г. Барнаул...</td>\n",
       "      <td>2</td>\n",
       "      <td>1</td>\n",
       "      <td>0</td>\n",
       "      <td>Наезд на пешехода</td>\n",
       "      <td>Светлое время суток</td>\n",
       "      <td>[ \"Эстакада, путепровод\" ]</td>\n",
       "      <td>[ { \"brand\": \"MAZDA\", \"model\": \"Mazda 3\", \"col...</td>\n",
       "      <td>[ { \"health_status\": \"Раненый, находящийся (на...</td>\n",
       "      <td>820</td>\n",
       "      <td>POINT (83.42320 53.17250)</td>\n",
       "    </tr>\n",
       "    <tr>\n",
       "      <th>...</th>\n",
       "      <td>...</td>\n",
       "      <td>...</td>\n",
       "      <td>...</td>\n",
       "      <td>...</td>\n",
       "      <td>...</td>\n",
       "      <td>...</td>\n",
       "      <td>...</td>\n",
       "      <td>...</td>\n",
       "      <td>...</td>\n",
       "      <td>...</td>\n",
       "      <td>...</td>\n",
       "      <td>...</td>\n",
       "      <td>...</td>\n",
       "      <td>...</td>\n",
       "      <td>...</td>\n",
       "      <td>...</td>\n",
       "      <td>...</td>\n",
       "      <td>...</td>\n",
       "    </tr>\n",
       "    <tr>\n",
       "      <th>103810</th>\n",
       "      <td>2566093</td>\n",
       "      <td>221364479</td>\n",
       "      <td>{'lat': 52.368479, 'long': 115.527195}</td>\n",
       "      <td>Тяжёлый</td>\n",
       "      <td>Тунгокоченский район</td>\n",
       "      <td>Забайкальский край</td>\n",
       "      <td>2021-04-05 15:20:00</td>\n",
       "      <td>пгт Вершино-Дарасунский, ул Центральная, 19</td>\n",
       "      <td>2</td>\n",
       "      <td>1</td>\n",
       "      <td>0</td>\n",
       "      <td>Наезд на пешехода</td>\n",
       "      <td>Светлое время суток</td>\n",
       "      <td>[ \"Нерегулируемый пешеходный переход\" ]</td>\n",
       "      <td>[ { \"brand\": \"Прочие марки мотоциклов\", \"model...</td>\n",
       "      <td>[ { \"health_status\": \"Раненый, находящийся (на...</td>\n",
       "      <td>820</td>\n",
       "      <td>POINT (115.52720 52.36848)</td>\n",
       "    </tr>\n",
       "    <tr>\n",
       "      <th>103811</th>\n",
       "      <td>2382619</td>\n",
       "      <td>209498619</td>\n",
       "      <td>{'lat': 52.3525, 'long': 115.5519}</td>\n",
       "      <td>Тяжёлый</td>\n",
       "      <td>Тунгокоченский район</td>\n",
       "      <td>Забайкальский край</td>\n",
       "      <td>2018-05-19 19:30:00</td>\n",
       "      <td>пгт Вершино-Дарасунский, ул Юбилейная, 1а</td>\n",
       "      <td>2</td>\n",
       "      <td>1</td>\n",
       "      <td>0</td>\n",
       "      <td>Наезд на пешехода</td>\n",
       "      <td>Светлое время суток</td>\n",
       "      <td>[ \"Многоквартирные жилые дома\", \"Внутридворова...</td>\n",
       "      <td>[ { \"brand\": \"LTI\", \"model\": \"Прочие модели LT...</td>\n",
       "      <td>[ { \"health_status\": \"Раненый, находящийся (на...</td>\n",
       "      <td>810</td>\n",
       "      <td>POINT (115.55190 52.35250)</td>\n",
       "    </tr>\n",
       "    <tr>\n",
       "      <th>103812</th>\n",
       "      <td>2379803</td>\n",
       "      <td>209283636</td>\n",
       "      <td>{'lat': 52.3672, 'long': 115.5386}</td>\n",
       "      <td>Тяжёлый</td>\n",
       "      <td>Тунгокоченский район</td>\n",
       "      <td>Забайкальский край</td>\n",
       "      <td>2018-04-22 23:10:00</td>\n",
       "      <td>пгт Вершино-Дарасунский, ВЕДОМСТВЕННЫЕ ДОРОГИ,...</td>\n",
       "      <td>1</td>\n",
       "      <td>1</td>\n",
       "      <td>0</td>\n",
       "      <td>Опрокидывание</td>\n",
       "      <td>В темное время суток, освещение отсутствует</td>\n",
       "      <td>[ ]</td>\n",
       "      <td>[ { \"brand\": \"ГАЗ\", \"model\": \"ГАЗ 3110, 3110-1...</td>\n",
       "      <td>[ ]</td>\n",
       "      <td>610</td>\n",
       "      <td>POINT (115.53860 52.36720)</td>\n",
       "    </tr>\n",
       "    <tr>\n",
       "      <th>103813</th>\n",
       "      <td>2379804</td>\n",
       "      <td>209354331</td>\n",
       "      <td>{'lat': 52.3519, 'long': 115.5167}</td>\n",
       "      <td>Тяжёлый</td>\n",
       "      <td>Тунгокоченский район</td>\n",
       "      <td>Забайкальский край</td>\n",
       "      <td>2018-04-22 20:20:00</td>\n",
       "      <td>пгт Вершино-Дарасунский, ул Пролетарская, 124</td>\n",
       "      <td>1</td>\n",
       "      <td>1</td>\n",
       "      <td>0</td>\n",
       "      <td>Опрокидывание</td>\n",
       "      <td>Светлое время суток</td>\n",
       "      <td>[ \"Жилые дома индивидуальной застройки\", \"Оста...</td>\n",
       "      <td>[ { \"brand\": \"LEXUS\", \"model\": \"RX\", \"color\": ...</td>\n",
       "      <td>[ ]</td>\n",
       "      <td>950</td>\n",
       "      <td>POINT (115.51670 52.35190)</td>\n",
       "    </tr>\n",
       "    <tr>\n",
       "      <th>103814</th>\n",
       "      <td>2379806</td>\n",
       "      <td>209279150</td>\n",
       "      <td>{'lat': 52.7519, 'long': 115.5183}</td>\n",
       "      <td>Легкий</td>\n",
       "      <td>Тунгокоченский район</td>\n",
       "      <td>Забайкальский край</td>\n",
       "      <td>2018-04-19 19:20:00</td>\n",
       "      <td>ВЕРШИНО-ДАРАСУНСКИЙ - ВЕРХНИЕ УСУГЛИ, 15 км</td>\n",
       "      <td>1</td>\n",
       "      <td>1</td>\n",
       "      <td>0</td>\n",
       "      <td>Опрокидывание</td>\n",
       "      <td>Светлое время суток</td>\n",
       "      <td>[ \"Мост, эстакада, путепровод\" ]</td>\n",
       "      <td>[ { \"brand\": \"TOYOTA\", \"model\": \"Platz\", \"colo...</td>\n",
       "      <td>[ ]</td>\n",
       "      <td>610</td>\n",
       "      <td>POINT (115.51830 52.75190)</td>\n",
       "    </tr>\n",
       "  </tbody>\n",
       "</table>\n",
       "<p>103815 rows × 18 columns</p>\n",
       "</div>"
      ],
      "text/plain": [
       "             id   gibdd_id                                   point severity  \\\n",
       "0       2312860  191156006       {'lat': 53.7754, 'long': 82.6678}   Легкий   \n",
       "1       2308403  213560316   {'lat': 53.320377, 'long': 82.917423}  Тяжёлый   \n",
       "2       2321883  203850213       {'lat': 51.4528, 'long': 81.1606}  Тяжёлый   \n",
       "3       2489751  220889161    {'lat': 53.053222, 'long': 83.84285}   Легкий   \n",
       "4       2321602  205535141       {'lat': 53.1725, 'long': 83.4232}  Тяжёлый   \n",
       "...         ...        ...                                     ...      ...   \n",
       "103810  2566093  221364479  {'lat': 52.368479, 'long': 115.527195}  Тяжёлый   \n",
       "103811  2382619  209498619      {'lat': 52.3525, 'long': 115.5519}  Тяжёлый   \n",
       "103812  2379803  209283636      {'lat': 52.3672, 'long': 115.5386}  Тяжёлый   \n",
       "103813  2379804  209354331      {'lat': 52.3519, 'long': 115.5167}  Тяжёлый   \n",
       "103814  2379806  209279150      {'lat': 52.7519, 'long': 115.5183}   Легкий   \n",
       "\n",
       "                      region       parent_region            datetime  \\\n",
       "0           Павловский район      Алтайский край 2016-02-16 21:50:00   \n",
       "1           Павловский район      Алтайский край 2018-11-03 11:00:00   \n",
       "2           Рубцовский район      Алтайский край 2017-02-08 16:50:00   \n",
       "3         Первомайский район      Алтайский край 2020-09-11 14:12:00   \n",
       "4                    Барнаул      Алтайский край 2017-06-26 14:00:00   \n",
       "...                      ...                 ...                 ...   \n",
       "103810  Тунгокоченский район  Забайкальский край 2021-04-05 15:20:00   \n",
       "103811  Тунгокоченский район  Забайкальский край 2018-05-19 19:30:00   \n",
       "103812  Тунгокоченский район  Забайкальский край 2018-04-22 23:10:00   \n",
       "103813  Тунгокоченский район  Забайкальский край 2018-04-22 20:20:00   \n",
       "103814  Тунгокоченский район  Забайкальский край 2018-04-19 19:20:00   \n",
       "\n",
       "                                                  address  participants_count  \\\n",
       "0       Барнаул - Камень-на-Оби - граница Новосибирско...                   3   \n",
       "1                   Павловск - Ребриха - Буканское, 65 км                   4   \n",
       "2       А-322 Барнаул - Рубцовск - граница с Республик...                   3   \n",
       "3       Фирсово - Бобровка - Рассказиха - Нижняя Петро...                   3   \n",
       "4       г Барнаул, Объездная дорога в обход г. Барнаул...                   2   \n",
       "...                                                   ...                 ...   \n",
       "103810        пгт Вершино-Дарасунский, ул Центральная, 19                   2   \n",
       "103811          пгт Вершино-Дарасунский, ул Юбилейная, 1а                   2   \n",
       "103812  пгт Вершино-Дарасунский, ВЕДОМСТВЕННЫЕ ДОРОГИ,...                   1   \n",
       "103813      пгт Вершино-Дарасунский, ул Пролетарская, 124                   1   \n",
       "103814        ВЕРШИНО-ДАРАСУНСКИЙ - ВЕРХНИЕ УСУГЛИ, 15 км                   1   \n",
       "\n",
       "        injured_count  dead_count           category  \\\n",
       "0                   1           0       Столкновение   \n",
       "1                   2           0       Столкновение   \n",
       "2                   1           0       Столкновение   \n",
       "3                   1           0       Столкновение   \n",
       "4                   1           0  Наезд на пешехода   \n",
       "...               ...         ...                ...   \n",
       "103810              1           0  Наезд на пешехода   \n",
       "103811              1           0  Наезд на пешехода   \n",
       "103812              1           0      Опрокидывание   \n",
       "103813              1           0      Опрокидывание   \n",
       "103814              1           0      Опрокидывание   \n",
       "\n",
       "                                              light  \\\n",
       "0       В темное время суток, освещение отсутствует   \n",
       "1                               Светлое время суток   \n",
       "2                               Светлое время суток   \n",
       "3                               Светлое время суток   \n",
       "4                               Светлое время суток   \n",
       "...                                             ...   \n",
       "103810                          Светлое время суток   \n",
       "103811                          Светлое время суток   \n",
       "103812  В темное время суток, освещение отсутствует   \n",
       "103813                          Светлое время суток   \n",
       "103814                          Светлое время суток   \n",
       "\n",
       "                                                   nearby  \\\n",
       "0                                                     [ ]   \n",
       "1                                                     [ ]   \n",
       "2       [ \"Нерегулируемый перекрёсток неравнозначных у...   \n",
       "3       [ \"Нерегулируемый перекрёсток неравнозначных у...   \n",
       "4                              [ \"Эстакада, путепровод\" ]   \n",
       "...                                                   ...   \n",
       "103810            [ \"Нерегулируемый пешеходный переход\" ]   \n",
       "103811  [ \"Многоквартирные жилые дома\", \"Внутридворова...   \n",
       "103812                                                [ ]   \n",
       "103813  [ \"Жилые дома индивидуальной застройки\", \"Оста...   \n",
       "103814                   [ \"Мост, эстакада, путепровод\" ]   \n",
       "\n",
       "                                                 vehicles  \\\n",
       "0       [ { \"brand\": \"NISSAN\", \"model\": \"Serena\", \"col...   \n",
       "1       [ { \"brand\": \"ВАЗ\", \"model\": \"ВАЗ 2110, 21101,...   \n",
       "2       [ { \"brand\": \"ВАЗ\", \"model\": \" Жигули  ВАЗ-210...   \n",
       "3       [ { \"brand\": \"TOYOTA\", \"model\": \"Corolla\", \"co...   \n",
       "4       [ { \"brand\": \"MAZDA\", \"model\": \"Mazda 3\", \"col...   \n",
       "...                                                   ...   \n",
       "103810  [ { \"brand\": \"Прочие марки мотоциклов\", \"model...   \n",
       "103811  [ { \"brand\": \"LTI\", \"model\": \"Прочие модели LT...   \n",
       "103812  [ { \"brand\": \"ГАЗ\", \"model\": \"ГАЗ 3110, 3110-1...   \n",
       "103813  [ { \"brand\": \"LEXUS\", \"model\": \"RX\", \"color\": ...   \n",
       "103814  [ { \"brand\": \"TOYOTA\", \"model\": \"Platz\", \"colo...   \n",
       "\n",
       "                                             participants scheme  \\\n",
       "0                                                     [ ]    210   \n",
       "1                                                     [ ]    220   \n",
       "2                                                     [ ]    300   \n",
       "3                                                     [ ]    430   \n",
       "4       [ { \"health_status\": \"Раненый, находящийся (на...    820   \n",
       "...                                                   ...    ...   \n",
       "103810  [ { \"health_status\": \"Раненый, находящийся (на...    820   \n",
       "103811  [ { \"health_status\": \"Раненый, находящийся (на...    810   \n",
       "103812                                                [ ]    610   \n",
       "103813                                                [ ]    950   \n",
       "103814                                                [ ]    610   \n",
       "\n",
       "                          geometry  \n",
       "0        POINT (82.66780 53.77540)  \n",
       "1        POINT (82.91742 53.32038)  \n",
       "2        POINT (81.16060 51.45280)  \n",
       "3        POINT (83.84285 53.05322)  \n",
       "4        POINT (83.42320 53.17250)  \n",
       "...                            ...  \n",
       "103810  POINT (115.52720 52.36848)  \n",
       "103811  POINT (115.55190 52.35250)  \n",
       "103812  POINT (115.53860 52.36720)  \n",
       "103813  POINT (115.51670 52.35190)  \n",
       "103814  POINT (115.51830 52.75190)  \n",
       "\n",
       "[103815 rows x 18 columns]"
      ]
     },
     "execution_count": 6,
     "metadata": {},
     "output_type": "execute_result"
    }
   ],
   "source": [
    "dfFull"
   ]
  },
  {
   "cell_type": "markdown",
   "id": "75eae063",
   "metadata": {},
   "source": [
    "### Просмотрим данные:"
   ]
  },
  {
   "cell_type": "code",
   "execution_count": 7,
   "id": "385f51f4",
   "metadata": {
    "scrolled": true
   },
   "outputs": [
    {
     "name": "stdout",
     "output_type": "stream",
     "text": [
      "<class 'geopandas.geodataframe.GeoDataFrame'>\n",
      "RangeIndex: 103815 entries, 0 to 103814\n",
      "Data columns (total 18 columns):\n",
      " #   Column              Non-Null Count   Dtype         \n",
      "---  ------              --------------   -----         \n",
      " 0   id                  103815 non-null  int64         \n",
      " 1   gibdd_id            103815 non-null  object        \n",
      " 2   point               103815 non-null  object        \n",
      " 3   severity            103815 non-null  object        \n",
      " 4   region              103815 non-null  object        \n",
      " 5   parent_region       103815 non-null  object        \n",
      " 6   datetime            103815 non-null  datetime64[ns]\n",
      " 7   address             99104 non-null   object        \n",
      " 8   participants_count  103815 non-null  int64         \n",
      " 9   injured_count       103815 non-null  int64         \n",
      " 10  dead_count          103815 non-null  int64         \n",
      " 11  category            103815 non-null  object        \n",
      " 12  light               103815 non-null  object        \n",
      " 13  nearby              45839 non-null   object        \n",
      " 14  vehicles            103815 non-null  object        \n",
      " 15  participants        103815 non-null  object        \n",
      " 16  scheme              97942 non-null   object        \n",
      " 17  geometry            102405 non-null  geometry      \n",
      "dtypes: datetime64[ns](1), geometry(1), int64(4), object(12)\n",
      "memory usage: 14.3+ MB\n"
     ]
    }
   ],
   "source": [
    "dfFull.info()"
   ]
  },
  {
   "cell_type": "markdown",
   "id": "d9aba0fa",
   "metadata": {},
   "source": [
    "### Следовательно \n",
    "\n",
    "- Данные были перенесены в DataFrame без потерь\n",
    "- Большая часть данных это тип object их 11, понадобится закодировать\n",
    "- Оставшиеся типы datetime64 и geometry в еденичных экземплярах, а так же три int64\n",
    "- Присутствуют поля с пропусками, но их кол-во не известно\n",
    "- Некоторые поля представляют собой пустой массив, представляя собой пропуски которые нужно проверить и в случае большого количества удалить\n",
    "- По неизвестной причине часть данных в таблице утеряны, например Wether и road_conditions"
   ]
  },
  {
   "cell_type": "markdown",
   "id": "f416b0bc",
   "metadata": {},
   "source": [
    "# Просмотрим, обработаем и очистим данные\n",
    "- удалить полей с пропускми\n",
    "- удалить полей с ненужными данными\n",
    "- раскрыть столбцы со списками в отдельные таблицы"
   ]
  },
  {
   "cell_type": "markdown",
   "id": "be2e8fdb",
   "metadata": {},
   "source": [
    "# Обработаем пропуски"
   ]
  },
  {
   "cell_type": "markdown",
   "id": "90b63315",
   "metadata": {},
   "source": [
    "#### Посмотрим количество пропусков:"
   ]
  },
  {
   "cell_type": "code",
   "execution_count": 8,
   "id": "52444be1",
   "metadata": {},
   "outputs": [
    {
     "data": {
      "text/plain": [
       "id                        0\n",
       "gibdd_id                  0\n",
       "point                     0\n",
       "severity                  0\n",
       "region                    0\n",
       "parent_region             0\n",
       "datetime                  0\n",
       "address                4711\n",
       "participants_count        0\n",
       "injured_count             0\n",
       "dead_count                0\n",
       "category                  0\n",
       "light                     0\n",
       "nearby                57976\n",
       "vehicles                  0\n",
       "participants              0\n",
       "scheme                 5873\n",
       "geometry               1410\n",
       "dtype: int64"
      ]
     },
     "execution_count": 8,
     "metadata": {},
     "output_type": "execute_result"
    }
   ],
   "source": [
    "dfFull.isna().sum()"
   ]
  },
  {
   "cell_type": "markdown",
   "id": "45423432",
   "metadata": {},
   "source": [
    "#### Посмотрим процент пропусков:"
   ]
  },
  {
   "cell_type": "code",
   "execution_count": 9,
   "id": "25cb6805",
   "metadata": {},
   "outputs": [
    {
     "data": {
      "text/plain": [
       "id                     0.000000\n",
       "gibdd_id               0.000000\n",
       "point                  0.000000\n",
       "severity               0.000000\n",
       "region                 0.000000\n",
       "parent_region          0.000000\n",
       "datetime               0.000000\n",
       "address                4.537880\n",
       "participants_count     0.000000\n",
       "injured_count          0.000000\n",
       "dead_count             0.000000\n",
       "category               0.000000\n",
       "light                  0.000000\n",
       "nearby                55.845494\n",
       "vehicles               0.000000\n",
       "participants           0.000000\n",
       "scheme                 5.657179\n",
       "geometry               1.358185\n",
       "dtype: float64"
      ]
     },
     "execution_count": 9,
     "metadata": {},
     "output_type": "execute_result"
    }
   ],
   "source": [
    "100*dfFull.isna().sum()/len(dfFull)"
   ]
  },
  {
   "cell_type": "markdown",
   "id": "c76c6a2b",
   "metadata": {},
   "source": [
    "У nearby слишком много пропусков, поле понадобится удалить"
   ]
  },
  {
   "cell_type": "code",
   "execution_count": 10,
   "id": "551d2155",
   "metadata": {},
   "outputs": [],
   "source": [
    "dfFull.drop(['nearby'], axis=1, inplace=True)"
   ]
  },
  {
   "cell_type": "markdown",
   "id": "bf5e2b59",
   "metadata": {},
   "source": [
    "## Поле participants"
   ]
  },
  {
   "cell_type": "markdown",
   "id": "754945dd",
   "metadata": {},
   "source": [
    "participants хоть и не отображает кол-во пропусков, но при просмотре значений у нас 724тыс пустых значений и пара тыся заполненых, что очевидно говорит об огромном кол-ве пропусков"
   ]
  },
  {
   "cell_type": "code",
   "execution_count": 11,
   "id": "fd83fefd",
   "metadata": {
    "scrolled": true
   },
   "outputs": [
    {
     "data": {
      "text/plain": [
       "[ ]                                                                                                                                                                                                                                                                                                                                                  75469\n",
       "[ { \"health_status\": \"Раненый, находящийся (находившийся)  на амбулаторном лечении, либо которому по характеру полученных травм обозначена необходимость амбулаторного лечения (вне зависимости от его фактического прохождения)\", \"role\": \"Пешеход\", \"gender\": \"Женский\", \"violations\": [ ] } ]                                                      4270\n",
       "[ { \"health_status\": \"Раненый, находящийся (находившийся) на стационарном лечении\", \"role\": \"Пешеход\", \"gender\": \"Женский\", \"violations\": [ ] } ]                                                                                                                                                                                                     2779\n",
       "[ { \"health_status\": \"Раненый, находящийся (находившийся)  на амбулаторном лечении, либо которому по характеру полученных травм обозначена необходимость амбулаторного лечения (вне зависимости от его фактического прохождения)\", \"role\": \"Пешеход\", \"gender\": \"Мужской\", \"violations\": [ ] } ]                                                      2539\n",
       "[ { \"health_status\": \"Раненый, находящийся (находившийся) на стационарном лечении\", \"role\": \"Пешеход\", \"gender\": \"Мужской\", \"violations\": [ ] } ]                                                                                                                                                                                                     1998\n",
       "                                                                                                                                                                                                                                                                                                                                                     ...  \n",
       "[ { \"health_status\": \"Скончался в течение 7 суток\", \"role\": \"Пешеход\", \"gender\": null, \"violations\": [ \"Переход через проезжую часть вне пешеходного перехода в зоне его видимости либо при наличии в непосредственной близости подземного (надземного) пешеходного перехода\" ] } ]                                                                      1\n",
       "[ { \"health_status\": \"Скончался в течение 5 суток\", \"role\": \"Пешеход\", \"gender\": \"Женский\", \"violations\": [ \"Неподчинение сигналам регулирования\" ] } ]                                                                                                                                                                                                  1\n",
       "[ { \"health_status\": \"Скончался при транспортировке\", \"role\": \"Пешеход\", \"gender\": \"Мужской\", \"violations\": [ \"Неожиданный выход из-за сооружений (деревьев)\" ] } ]                                                                                                                                                                                      1\n",
       "[ { \"health_status\": \"Скончался в течение 11 суток\", \"role\": \"Пешеход\", \"gender\": \"Мужской\", \"violations\": [ ] } ]                                                                                                                                                                                                                                       1\n",
       "[ { \"health_status\": \"Не пострадал\", \"role\": \"Пешеход\", \"gender\": \"Женский\", \"violations\": [ ] }, { \"health_status\": \"Скончался на месте ДТП до приезда скорой медицинской помощи\", \"role\": \"Пешеход\", \"gender\": \"Женский\", \"violations\": [ ] }, { \"health_status\": \"Не пострадал\", \"role\": \"Пешеход\", \"gender\": \"Женский\", \"violations\": [ ] } ]        1\n",
       "Name: participants, Length: 1838, dtype: int64"
      ]
     },
     "execution_count": 11,
     "metadata": {},
     "output_type": "execute_result"
    }
   ],
   "source": [
    "dfFull.participants.value_counts()"
   ]
  },
  {
   "cell_type": "markdown",
   "id": "8067737a",
   "metadata": {},
   "source": [
    "Подсчитав получаем 68% пропусков. Следовательно удаляем поле"
   ]
  },
  {
   "cell_type": "code",
   "execution_count": 12,
   "id": "eb06fc55",
   "metadata": {},
   "outputs": [],
   "source": [
    "dfFull.drop(['participants'], axis=1, inplace=True)"
   ]
  },
  {
   "cell_type": "markdown",
   "id": "a6c14e34",
   "metadata": {},
   "source": [
    "# Удаление полей с не нужными данными"
   ]
  },
  {
   "cell_type": "markdown",
   "id": "56834da3",
   "metadata": {},
   "source": [
    "Далее рассмотрим более подробно поля по отдельности, проверяя их необходимость и по не обходимости кодируя их в нужный нам формат"
   ]
  },
  {
   "cell_type": "markdown",
   "id": "e524c628",
   "metadata": {},
   "source": [
    "## Поля id и gibdd_id"
   ]
  },
  {
   "cell_type": "markdown",
   "id": "a1d96d68",
   "metadata": {},
   "source": [
    "Рассотрим два первых поля схожих по смыслу и структуре, показывая нам id проишествия и гибдд принявшего его"
   ]
  },
  {
   "cell_type": "code",
   "execution_count": 13,
   "id": "2f48cf9d",
   "metadata": {},
   "outputs": [
    {
     "data": {
      "text/plain": [
       "0    2312860\n",
       "1    2308403\n",
       "2    2321883\n",
       "3    2489751\n",
       "4    2321602\n",
       "Name: id, dtype: int64"
      ]
     },
     "execution_count": 13,
     "metadata": {},
     "output_type": "execute_result"
    }
   ],
   "source": [
    "dfFull.id.head()"
   ]
  },
  {
   "cell_type": "code",
   "execution_count": 14,
   "id": "e9a6ecae",
   "metadata": {},
   "outputs": [
    {
     "data": {
      "text/plain": [
       "0    191156006\n",
       "1    213560316\n",
       "2    203850213\n",
       "3    220889161\n",
       "4    205535141\n",
       "Name: gibdd_id, dtype: object"
      ]
     },
     "execution_count": 14,
     "metadata": {},
     "output_type": "execute_result"
    }
   ],
   "source": [
    "dfFull.gibdd_id.head()"
   ]
  },
  {
   "cell_type": "code",
   "execution_count": 15,
   "id": "5df2b95c",
   "metadata": {},
   "outputs": [],
   "source": [
    "dfFull.drop(['id', \"gibdd_id\"], axis=1, inplace=True)"
   ]
  },
  {
   "cell_type": "markdown",
   "id": "193663d9",
   "metadata": {},
   "source": [
    "Id, gibdd_id удаляем из-за не нужности в дальнейшей работе, так как нам нужно вычислять уровень опасности, уникальные id случая и гибдд не сообщат ничего конкретного."
   ]
  },
  {
   "cell_type": "markdown",
   "id": "3710bbcc",
   "metadata": {},
   "source": [
    "## Поля participants_count, injured_count и dead_count"
   ]
  },
  {
   "cell_type": "markdown",
   "id": "f8b71843",
   "metadata": {},
   "source": [
    "Данные поля отображают на количество участников аварии, пострадавших и погибших. Очевидно что нам понадобятся они для работы "
   ]
  },
  {
   "cell_type": "code",
   "execution_count": 16,
   "id": "5ed5a2e7",
   "metadata": {},
   "outputs": [
    {
     "data": {
      "text/html": [
       "<div>\n",
       "<style scoped>\n",
       "    .dataframe tbody tr th:only-of-type {\n",
       "        vertical-align: middle;\n",
       "    }\n",
       "\n",
       "    .dataframe tbody tr th {\n",
       "        vertical-align: top;\n",
       "    }\n",
       "\n",
       "    .dataframe thead th {\n",
       "        text-align: right;\n",
       "    }\n",
       "</style>\n",
       "<table border=\"1\" class=\"dataframe\">\n",
       "  <thead>\n",
       "    <tr style=\"text-align: right;\">\n",
       "      <th></th>\n",
       "      <th>count</th>\n",
       "      <th>mean</th>\n",
       "      <th>std</th>\n",
       "      <th>min</th>\n",
       "      <th>25%</th>\n",
       "      <th>50%</th>\n",
       "      <th>75%</th>\n",
       "      <th>max</th>\n",
       "    </tr>\n",
       "  </thead>\n",
       "  <tbody>\n",
       "    <tr>\n",
       "      <th>participants_count</th>\n",
       "      <td>103815.0</td>\n",
       "      <td>2.468506</td>\n",
       "      <td>1.244576</td>\n",
       "      <td>1.0</td>\n",
       "      <td>2.0</td>\n",
       "      <td>2.0</td>\n",
       "      <td>3.0</td>\n",
       "      <td>54.0</td>\n",
       "    </tr>\n",
       "    <tr>\n",
       "      <th>injured_count</th>\n",
       "      <td>103815.0</td>\n",
       "      <td>1.289457</td>\n",
       "      <td>0.962810</td>\n",
       "      <td>0.0</td>\n",
       "      <td>1.0</td>\n",
       "      <td>1.0</td>\n",
       "      <td>1.0</td>\n",
       "      <td>47.0</td>\n",
       "    </tr>\n",
       "    <tr>\n",
       "      <th>dead_count</th>\n",
       "      <td>103815.0</td>\n",
       "      <td>0.147368</td>\n",
       "      <td>0.452349</td>\n",
       "      <td>0.0</td>\n",
       "      <td>0.0</td>\n",
       "      <td>0.0</td>\n",
       "      <td>0.0</td>\n",
       "      <td>17.0</td>\n",
       "    </tr>\n",
       "  </tbody>\n",
       "</table>\n",
       "</div>"
      ],
      "text/plain": [
       "                       count      mean       std  min  25%  50%  75%   max\n",
       "participants_count  103815.0  2.468506  1.244576  1.0  2.0  2.0  3.0  54.0\n",
       "injured_count       103815.0  1.289457  0.962810  0.0  1.0  1.0  1.0  47.0\n",
       "dead_count          103815.0  0.147368  0.452349  0.0  0.0  0.0  0.0  17.0"
      ]
     },
     "execution_count": 16,
     "metadata": {},
     "output_type": "execute_result"
    }
   ],
   "source": [
    "dfFull.describe().T"
   ]
  },
  {
   "cell_type": "markdown",
   "id": "fce08ddb",
   "metadata": {},
   "source": [
    "Максимальные значения слишком отличаются от средних и 75%, из этого следует вывод о наличии аномальных значений, например столкновение с автобусом"
   ]
  },
  {
   "cell_type": "code",
   "execution_count": 17,
   "id": "444a36af",
   "metadata": {},
   "outputs": [
    {
     "data": {
      "text/plain": [
       "0    3\n",
       "1    4\n",
       "2    3\n",
       "3    3\n",
       "4    2\n",
       "Name: participants_count, dtype: int64"
      ]
     },
     "execution_count": 17,
     "metadata": {},
     "output_type": "execute_result"
    }
   ],
   "source": [
    "dfFull.participants_count.head()"
   ]
  },
  {
   "cell_type": "code",
   "execution_count": 18,
   "id": "057b7c49",
   "metadata": {
    "scrolled": true
   },
   "outputs": [
    {
     "data": {
      "text/plain": [
       "0    1\n",
       "1    2\n",
       "2    1\n",
       "3    1\n",
       "4    1\n",
       "Name: injured_count, dtype: int64"
      ]
     },
     "execution_count": 18,
     "metadata": {},
     "output_type": "execute_result"
    }
   ],
   "source": [
    "dfFull.injured_count.head()"
   ]
  },
  {
   "cell_type": "code",
   "execution_count": 19,
   "id": "636fb0fa",
   "metadata": {
    "scrolled": true
   },
   "outputs": [
    {
     "data": {
      "text/plain": [
       "0    0\n",
       "1    0\n",
       "2    0\n",
       "3    0\n",
       "4    0\n",
       "Name: dead_count, dtype: int64"
      ]
     },
     "execution_count": 19,
     "metadata": {},
     "output_type": "execute_result"
    }
   ],
   "source": [
    "dfFull.dead_count.head()"
   ]
  },
  {
   "cell_type": "markdown",
   "id": "3fa7b06e",
   "metadata": {},
   "source": [
    "Все три поля имеют тип int64 и подходят для работы, без нужды в кодировании "
   ]
  },
  {
   "cell_type": "markdown",
   "id": "8d1f923a",
   "metadata": {},
   "source": [
    "## Поле point "
   ]
  },
  {
   "cell_type": "markdown",
   "id": "971469ea",
   "metadata": {},
   "source": [
    "Рассмотрим поле point отображающее координаты проишествия"
   ]
  },
  {
   "cell_type": "code",
   "execution_count": 20,
   "id": "3afdccce",
   "metadata": {},
   "outputs": [
    {
     "data": {
      "text/plain": [
       "0        {'lat': 53.7754, 'long': 82.6678}\n",
       "1    {'lat': 53.320377, 'long': 82.917423}\n",
       "2        {'lat': 51.4528, 'long': 81.1606}\n",
       "3     {'lat': 53.053222, 'long': 83.84285}\n",
       "4        {'lat': 53.1725, 'long': 83.4232}\n",
       "Name: point, dtype: object"
      ]
     },
     "execution_count": 20,
     "metadata": {},
     "output_type": "execute_result"
    }
   ],
   "source": [
    "dfFull.point.head()"
   ]
  },
  {
   "cell_type": "markdown",
   "id": "99f09ede",
   "metadata": {},
   "source": [
    "Поле имеет тип object и хранит в себе список из нескольких значений, следовательно мы должны достать их и поместить в отдельные поля"
   ]
  },
  {
   "cell_type": "code",
   "execution_count": 21,
   "id": "3ca863c7",
   "metadata": {},
   "outputs": [],
   "source": [
    "lats = [] \n",
    "longs = [] \n",
    "for i in dfFull.point:\n",
    "    lats.append(i['lat'])\n",
    "    longs.append(i['long'])"
   ]
  },
  {
   "cell_type": "markdown",
   "id": "192b746d",
   "metadata": {},
   "source": [
    "Создали два пустых массива и занесли в них данные"
   ]
  },
  {
   "cell_type": "markdown",
   "id": "8718b118",
   "metadata": {},
   "source": [
    "Теперь поместим массивы в общий DataFrame"
   ]
  },
  {
   "cell_type": "code",
   "execution_count": 22,
   "id": "8b3ec523",
   "metadata": {},
   "outputs": [
    {
     "data": {
      "text/html": [
       "<div>\n",
       "<style scoped>\n",
       "    .dataframe tbody tr th:only-of-type {\n",
       "        vertical-align: middle;\n",
       "    }\n",
       "\n",
       "    .dataframe tbody tr th {\n",
       "        vertical-align: top;\n",
       "    }\n",
       "\n",
       "    .dataframe thead th {\n",
       "        text-align: right;\n",
       "    }\n",
       "</style>\n",
       "<table border=\"1\" class=\"dataframe\">\n",
       "  <thead>\n",
       "    <tr style=\"text-align: right;\">\n",
       "      <th></th>\n",
       "      <th>lat</th>\n",
       "      <th>long</th>\n",
       "    </tr>\n",
       "  </thead>\n",
       "  <tbody>\n",
       "    <tr>\n",
       "      <th>0</th>\n",
       "      <td>53.775400</td>\n",
       "      <td>82.667800</td>\n",
       "    </tr>\n",
       "    <tr>\n",
       "      <th>1</th>\n",
       "      <td>53.320377</td>\n",
       "      <td>82.917423</td>\n",
       "    </tr>\n",
       "    <tr>\n",
       "      <th>2</th>\n",
       "      <td>51.452800</td>\n",
       "      <td>81.160600</td>\n",
       "    </tr>\n",
       "    <tr>\n",
       "      <th>3</th>\n",
       "      <td>53.053222</td>\n",
       "      <td>83.842850</td>\n",
       "    </tr>\n",
       "    <tr>\n",
       "      <th>4</th>\n",
       "      <td>53.172500</td>\n",
       "      <td>83.423200</td>\n",
       "    </tr>\n",
       "  </tbody>\n",
       "</table>\n",
       "</div>"
      ],
      "text/plain": [
       "         lat       long\n",
       "0  53.775400  82.667800\n",
       "1  53.320377  82.917423\n",
       "2  51.452800  81.160600\n",
       "3  53.053222  83.842850\n",
       "4  53.172500  83.423200"
      ]
     },
     "execution_count": 22,
     "metadata": {},
     "output_type": "execute_result"
    }
   ],
   "source": [
    "dfPoints = pd.DataFrame(columns=[\"lat\", \"long\"])\n",
    "dfPoints.lat = lats\n",
    "dfPoints.long = longs\n",
    "dfPoints.head(5)"
   ]
  },
  {
   "cell_type": "code",
   "execution_count": 23,
   "id": "756e388f",
   "metadata": {},
   "outputs": [],
   "source": [
    "dfFull = pd.concat([dfPoints, dfFull], axis=1)"
   ]
  },
  {
   "cell_type": "markdown",
   "id": "80035847",
   "metadata": {},
   "source": [
    "Удаляем поле point"
   ]
  },
  {
   "cell_type": "code",
   "execution_count": 24,
   "id": "4012fe61",
   "metadata": {},
   "outputs": [],
   "source": [
    "dfFull.drop(['point'], axis=1, inplace=True)"
   ]
  },
  {
   "cell_type": "code",
   "execution_count": 25,
   "id": "f91235bd",
   "metadata": {},
   "outputs": [
    {
     "name": "stderr",
     "output_type": "stream",
     "text": [
      "C:\\Users\\sprae\\AppData\\Local\\Temp\\ipykernel_8800\\1888033804.py:2: SettingWithCopyWarning: \n",
      "A value is trying to be set on a copy of a slice from a DataFrame\n",
      "\n",
      "See the caveats in the documentation: https://pandas.pydata.org/pandas-docs/stable/user_guide/indexing.html#returning-a-view-versus-a-copy\n",
      "  dfFull.lat[i] = round(dfFull.lat[i],2)\n",
      "C:\\Users\\sprae\\AppData\\Local\\Temp\\ipykernel_8800\\1888033804.py:3: SettingWithCopyWarning: \n",
      "A value is trying to be set on a copy of a slice from a DataFrame\n",
      "\n",
      "See the caveats in the documentation: https://pandas.pydata.org/pandas-docs/stable/user_guide/indexing.html#returning-a-view-versus-a-copy\n",
      "  dfFull.long[i] = round(dfFull.long[i],2)\n"
     ]
    }
   ],
   "source": [
    "for i in range(0, dfFull.shape[0]):\n",
    "    dfFull.lat[i] = round(dfFull.lat[i],2)\n",
    "    dfFull.long[i] = round(dfFull.long[i],2)"
   ]
  },
  {
   "cell_type": "markdown",
   "id": "9af5617a",
   "metadata": {},
   "source": [
    "Удалим строки с пропусками"
   ]
  },
  {
   "cell_type": "code",
   "execution_count": 26,
   "id": "2d6a5837",
   "metadata": {},
   "outputs": [],
   "source": [
    "dfFull.dropna(inplace = True)"
   ]
  },
  {
   "cell_type": "code",
   "execution_count": 27,
   "id": "e35f4905",
   "metadata": {
    "scrolled": false
   },
   "outputs": [
    {
     "data": {
      "text/plain": [
       "lat                   0\n",
       "long                  0\n",
       "severity              0\n",
       "region                0\n",
       "parent_region         0\n",
       "datetime              0\n",
       "address               0\n",
       "participants_count    0\n",
       "injured_count         0\n",
       "dead_count            0\n",
       "category              0\n",
       "light                 0\n",
       "vehicles              0\n",
       "scheme                0\n",
       "geometry              0\n",
       "dtype: int64"
      ]
     },
     "execution_count": 27,
     "metadata": {},
     "output_type": "execute_result"
    }
   ],
   "source": [
    "dfFull.isna().sum()"
   ]
  },
  {
   "cell_type": "markdown",
   "id": "df8c6ee6",
   "metadata": {},
   "source": [
    "Мы разделили поле и получили данные в типах int, подходящих для дальнейшей работы"
   ]
  },
  {
   "cell_type": "markdown",
   "id": "851bec15",
   "metadata": {},
   "source": [
    "## Поле address"
   ]
  },
  {
   "cell_type": "markdown",
   "id": "ba7f5795",
   "metadata": {},
   "source": [
    "Рассмотрим поле address отображающее адрес проишествия "
   ]
  },
  {
   "cell_type": "code",
   "execution_count": 28,
   "id": "c943844b",
   "metadata": {},
   "outputs": [
    {
     "data": {
      "text/plain": [
       "0    Барнаул - Камень-на-Оби - граница Новосибирско...\n",
       "1                Павловск - Ребриха - Буканское, 65 км\n",
       "2    А-322 Барнаул - Рубцовск - граница с Республик...\n",
       "3    Фирсово - Бобровка - Рассказиха - Нижняя Петро...\n",
       "4    г Барнаул, Объездная дорога в обход г. Барнаул...\n",
       "Name: address, dtype: object"
      ]
     },
     "execution_count": 28,
     "metadata": {},
     "output_type": "execute_result"
    }
   ],
   "source": [
    "dfFull.address.head()"
   ]
  },
  {
   "cell_type": "code",
   "execution_count": 29,
   "id": "a91189bd",
   "metadata": {
    "scrolled": true
   },
   "outputs": [],
   "source": [
    "dfFull.drop(['address'], axis=1, inplace=True)"
   ]
  },
  {
   "cell_type": "markdown",
   "id": "655ac8d0",
   "metadata": {},
   "source": [
    "Поле address оно же адрес, является копией поля point по смыслу и у нас нет необходимости оставлять или разворачивать его, так как поле point уже покрыло необходимость в точных координатах, для дальнейшей работы он не понадобиться, следовательно удаляем "
   ]
  },
  {
   "cell_type": "markdown",
   "id": "5c07f538",
   "metadata": {},
   "source": [
    "## Поле geometry"
   ]
  },
  {
   "cell_type": "markdown",
   "id": "ddc692aa",
   "metadata": {},
   "source": [
    "Рассмотрим поле geometry отображающее координаты случившегося проишествия"
   ]
  },
  {
   "cell_type": "code",
   "execution_count": 30,
   "id": "833ff6f9",
   "metadata": {},
   "outputs": [
    {
     "data": {
      "text/plain": [
       "0    POINT (82.66780 53.77540)\n",
       "1    POINT (82.91742 53.32038)\n",
       "2    POINT (81.16060 51.45280)\n",
       "3    POINT (83.84285 53.05322)\n",
       "4    POINT (83.42320 53.17250)\n",
       "Name: geometry, dtype: geometry"
      ]
     },
     "execution_count": 30,
     "metadata": {},
     "output_type": "execute_result"
    }
   ],
   "source": [
    "dfFull.geometry.head()"
   ]
  },
  {
   "cell_type": "code",
   "execution_count": 31,
   "id": "17344e2e",
   "metadata": {},
   "outputs": [],
   "source": [
    "dfFull.drop(['geometry'], axis=1, inplace=True)"
   ]
  },
  {
   "cell_type": "markdown",
   "id": "a5587ef0",
   "metadata": {},
   "source": [
    "Данные этого поля идентичны данным поля point, следовательно удаляем"
   ]
  },
  {
   "cell_type": "markdown",
   "id": "d7b76b08",
   "metadata": {},
   "source": [
    "## Поле category"
   ]
  },
  {
   "cell_type": "markdown",
   "id": "0a106640",
   "metadata": {},
   "source": [
    "Рассмотрим поле category отображающее тип случившегося проишествия"
   ]
  },
  {
   "cell_type": "code",
   "execution_count": 32,
   "id": "140079f0",
   "metadata": {},
   "outputs": [
    {
     "data": {
      "text/plain": [
       "0         Столкновение\n",
       "1         Столкновение\n",
       "2         Столкновение\n",
       "3         Столкновение\n",
       "4    Наезд на пешехода\n",
       "Name: category, dtype: object"
      ]
     },
     "execution_count": 32,
     "metadata": {},
     "output_type": "execute_result"
    }
   ],
   "source": [
    "dfFull.category.head()"
   ]
  },
  {
   "cell_type": "markdown",
   "id": "287257e5",
   "metadata": {},
   "source": [
    "Посмотрим количество имеющихся категорий и возможно ли их закодировать"
   ]
  },
  {
   "cell_type": "code",
   "execution_count": 33,
   "id": "ad37ee27",
   "metadata": {
    "scrolled": true
   },
   "outputs": [
    {
     "data": {
      "text/plain": [
       "Столкновение                                                                                                             40224\n",
       "Наезд на пешехода                                                                                                        24214\n",
       "Опрокидывание                                                                                                             9337\n",
       "Съезд с дороги                                                                                                            5956\n",
       "Наезд на препятствие                                                                                                      5619\n",
       "Наезд на стоящее ТС                                                                                                       2825\n",
       "Наезд на велосипедиста                                                                                                    2369\n",
       "Падение пассажира                                                                                                         1242\n",
       "Наезд на животное                                                                                                          351\n",
       "Иной вид ДТП                                                                                                               272\n",
       "Наезд на лицо, не являющееся участником дорожного движения, осуществляющее производство работ                               54\n",
       "Наезд на лицо, не являющееся участником дорожного движения, осуществляющее несение службы                                   28\n",
       "Наезд на гужевой транспорт                                                                                                  25\n",
       "Наезд на лицо, не являющееся участником дорожного движения, осуществляющее какую-либо другую деятельность                   23\n",
       "Наезд на внезапно возникшее препятствие                                                                                     20\n",
       "Отбрасывание предмета                                                                                                       18\n",
       "Падение груза                                                                                                                7\n",
       "Возгорание вследствие технической неисправности движущегося или остановившегося ТС, участвующего в дорожном движении.        1\n",
       "Name: category, dtype: int64"
      ]
     },
     "execution_count": 33,
     "metadata": {},
     "output_type": "execute_result"
    }
   ],
   "source": [
    "dfFull.category.value_counts()"
   ]
  },
  {
   "cell_type": "markdown",
   "id": "04644665",
   "metadata": {},
   "source": [
    "Данные хранятся в типе object, следовательно надо их закодировать, для этого воспользуемся библиотекой LabelEncoder"
   ]
  },
  {
   "cell_type": "code",
   "execution_count": 34,
   "id": "5661a079",
   "metadata": {},
   "outputs": [],
   "source": [
    "dfFull.category =  LabelEncoder().fit_transform(dfFull.category)"
   ]
  },
  {
   "cell_type": "markdown",
   "id": "9e48b1b1",
   "metadata": {},
   "source": [
    "Проверим результат:"
   ]
  },
  {
   "cell_type": "code",
   "execution_count": 35,
   "id": "76f30023",
   "metadata": {
    "scrolled": false
   },
   "outputs": [
    {
     "data": {
      "text/plain": [
       "16    40224\n",
       "9     24214\n",
       "12     9337\n",
       "17     5956\n",
       "10     5619\n",
       "11     2825\n",
       "2      2369\n",
       "15     1242\n",
       "5       351\n",
       "1       272\n",
       "8        54\n",
       "7        28\n",
       "4        25\n",
       "6        23\n",
       "3        20\n",
       "13       18\n",
       "14        7\n",
       "0         1\n",
       "Name: category, dtype: int64"
      ]
     },
     "execution_count": 35,
     "metadata": {},
     "output_type": "execute_result"
    }
   ],
   "source": [
    "dfFull.category.value_counts()"
   ]
  },
  {
   "cell_type": "markdown",
   "id": "2cf8c5a3",
   "metadata": {},
   "source": [
    "- Теперь категории хранятся в числовых значениях с типом int64 и подходят для дальнейшей работы\n",
    "- Информация из данного поля будет одной из ключевых в определении степени опасности дорог"
   ]
  },
  {
   "cell_type": "markdown",
   "id": "e7231536",
   "metadata": {},
   "source": [
    "## Поле region"
   ]
  },
  {
   "cell_type": "markdown",
   "id": "2ab093e7",
   "metadata": {},
   "source": [
    "Рассмотрим поле region отображающее регион случившегося проишествия"
   ]
  },
  {
   "cell_type": "code",
   "execution_count": 36,
   "id": "914cac42",
   "metadata": {},
   "outputs": [
    {
     "data": {
      "text/plain": [
       "0      Павловский район\n",
       "1      Павловский район\n",
       "2      Рубцовский район\n",
       "3    Первомайский район\n",
       "4               Барнаул\n",
       "Name: region, dtype: object"
      ]
     },
     "execution_count": 36,
     "metadata": {},
     "output_type": "execute_result"
    }
   ],
   "source": [
    "dfFull.region.head()"
   ]
  },
  {
   "cell_type": "code",
   "execution_count": 37,
   "id": "7493fde1",
   "metadata": {},
   "outputs": [
    {
     "data": {
      "text/plain": [
       "Сочи                             2787\n",
       "Центральный район                2163\n",
       "Ростов-на-Дону                   2141\n",
       "Нижний новгород                  1978\n",
       "Воронеж                          1738\n",
       "                                 ... \n",
       "Анабарский Национальный район       1\n",
       "Мосрентген                          1\n",
       "Угловский район                     1\n",
       "Шаройский район                     1\n",
       "Оленёкский  район                   1\n",
       "Name: region, Length: 652, dtype: int64"
      ]
     },
     "execution_count": 37,
     "metadata": {},
     "output_type": "execute_result"
    }
   ],
   "source": [
    "dfFull.region.value_counts()"
   ]
  },
  {
   "cell_type": "markdown",
   "id": "dd466900",
   "metadata": {},
   "source": [
    "Данные можно закодировать с помощью LabelEncoder"
   ]
  },
  {
   "cell_type": "code",
   "execution_count": 38,
   "id": "d5e5890f",
   "metadata": {},
   "outputs": [],
   "source": [
    "dfFull.region = LabelEncoder().fit_transform(dfFull.region)"
   ]
  },
  {
   "cell_type": "markdown",
   "id": "1f55b8f4",
   "metadata": {},
   "source": [
    "Проверим результат:"
   ]
  },
  {
   "cell_type": "code",
   "execution_count": 39,
   "id": "163e0394",
   "metadata": {},
   "outputs": [
    {
     "data": {
      "text/plain": [
       "447    2787\n",
       "569    2163\n",
       "376    2141\n",
       "267    1978\n",
       "65     1738\n",
       "       ... \n",
       "8         1\n",
       "246       1\n",
       "523       1\n",
       "600       1\n",
       "295       1\n",
       "Name: region, Length: 652, dtype: int64"
      ]
     },
     "execution_count": 39,
     "metadata": {},
     "output_type": "execute_result"
    }
   ],
   "source": [
    "dfFull.region.value_counts()"
   ]
  },
  {
   "cell_type": "markdown",
   "id": "c24e2ae1",
   "metadata": {},
   "source": [
    "Информация о регионах хранятся в числовых значениях с типом int64 и подходят для дальнейшей работы"
   ]
  },
  {
   "cell_type": "markdown",
   "id": "96d88cdd",
   "metadata": {},
   "source": [
    "## Поле parent_region"
   ]
  },
  {
   "cell_type": "markdown",
   "id": "b4db0e4e",
   "metadata": {},
   "source": [
    "Рассмотрим поле parent_region отображающее область или край случившегося проишествия"
   ]
  },
  {
   "cell_type": "code",
   "execution_count": 40,
   "id": "160b0677",
   "metadata": {},
   "outputs": [
    {
     "data": {
      "text/plain": [
       "0    Алтайский край\n",
       "1    Алтайский край\n",
       "2    Алтайский край\n",
       "3    Алтайский край\n",
       "4    Алтайский край\n",
       "Name: parent_region, dtype: object"
      ]
     },
     "execution_count": 40,
     "metadata": {},
     "output_type": "execute_result"
    }
   ],
   "source": [
    "dfFull.parent_region.head()"
   ]
  },
  {
   "cell_type": "code",
   "execution_count": 41,
   "id": "99410960",
   "metadata": {},
   "outputs": [
    {
     "data": {
      "text/plain": [
       "Москва                          4842\n",
       "Краснодарский край              3925\n",
       "Московская область              3731\n",
       "Санкт-Петербург                 3275\n",
       "Нижегородская область           2905\n",
       "                                ... \n",
       "Магаданская область              144\n",
       "Еврейская автономная область     131\n",
       "Республика Ингушетия             109\n",
       "Ненецкий автономный округ         15\n",
       "Чукотский автономный округ         3\n",
       "Name: parent_region, Length: 85, dtype: int64"
      ]
     },
     "execution_count": 41,
     "metadata": {},
     "output_type": "execute_result"
    }
   ],
   "source": [
    "dfFull.parent_region.value_counts()"
   ]
  },
  {
   "cell_type": "markdown",
   "id": "5c53dc22",
   "metadata": {},
   "source": [
    "Данные можно закодировать с помощью LabelEncoder"
   ]
  },
  {
   "cell_type": "code",
   "execution_count": 42,
   "id": "603f76fc",
   "metadata": {},
   "outputs": [],
   "source": [
    "dfFull.parent_region = LabelEncoder().fit_transform(dfFull.parent_region)"
   ]
  },
  {
   "cell_type": "markdown",
   "id": "4853091e",
   "metadata": {},
   "source": [
    "Проверим результат:"
   ]
  },
  {
   "cell_type": "code",
   "execution_count": 43,
   "id": "16a4adcf",
   "metadata": {},
   "outputs": [
    {
     "data": {
      "text/plain": [
       "29    4842\n",
       "22    3925\n",
       "30    3731\n",
       "63    3275\n",
       "33    2905\n",
       "      ... \n",
       "28     144\n",
       "10     131\n",
       "48     109\n",
       "32      15\n",
       "82       3\n",
       "Name: parent_region, Length: 85, dtype: int64"
      ]
     },
     "execution_count": 43,
     "metadata": {},
     "output_type": "execute_result"
    }
   ],
   "source": [
    "dfFull.parent_region.value_counts()"
   ]
  },
  {
   "cell_type": "markdown",
   "id": "de1329ea",
   "metadata": {},
   "source": [
    "Как и с регионом всё хранятся в числовых значениях с типом int64 и подходит для дальнейшей работы"
   ]
  },
  {
   "cell_type": "markdown",
   "id": "9c160168",
   "metadata": {},
   "source": [
    "## Поле severity "
   ]
  },
  {
   "cell_type": "markdown",
   "id": "304ee40b",
   "metadata": {},
   "source": [
    "Рассмотрим поле severity отображающее степень тяжести случившегося проишествия"
   ]
  },
  {
   "cell_type": "code",
   "execution_count": 44,
   "id": "4dfd5ed3",
   "metadata": {},
   "outputs": [
    {
     "data": {
      "text/plain": [
       "0     Легкий\n",
       "1    Тяжёлый\n",
       "2    Тяжёлый\n",
       "3     Легкий\n",
       "4    Тяжёлый\n",
       "Name: severity, dtype: object"
      ]
     },
     "execution_count": 44,
     "metadata": {},
     "output_type": "execute_result"
    }
   ],
   "source": [
    "dfFull.severity.head()"
   ]
  },
  {
   "cell_type": "code",
   "execution_count": 45,
   "id": "3dccc3fd",
   "metadata": {},
   "outputs": [
    {
     "data": {
      "text/plain": [
       "Легкий         46791\n",
       "Тяжёлый        34415\n",
       "С погибшими    11379\n",
       "Name: severity, dtype: int64"
      ]
     },
     "execution_count": 45,
     "metadata": {},
     "output_type": "execute_result"
    }
   ],
   "source": [
    "dfFull.severity.value_counts()"
   ]
  },
  {
   "cell_type": "code",
   "execution_count": 46,
   "id": "b14d4f71",
   "metadata": {},
   "outputs": [],
   "source": [
    "d = {\n",
    "    \"Легкий\": 0,\n",
    "    \"Тяжёлый\": 1,\n",
    "    \"С погибшими\": 2\n",
    "}\n",
    "\n",
    "dfFull.severity = dfFull.severity.map(d)"
   ]
  },
  {
   "cell_type": "code",
   "execution_count": 47,
   "id": "b5700f7c",
   "metadata": {},
   "outputs": [
    {
     "data": {
      "text/plain": [
       "0    46791\n",
       "1    34415\n",
       "2    11379\n",
       "Name: severity, dtype: int64"
      ]
     },
     "execution_count": 47,
     "metadata": {},
     "output_type": "execute_result"
    }
   ],
   "source": [
    "dfFull.severity.value_counts()"
   ]
  },
  {
   "cell_type": "markdown",
   "id": "740b3bba",
   "metadata": {},
   "source": [
    "## Поле light"
   ]
  },
  {
   "cell_type": "markdown",
   "id": "a1f99ecd",
   "metadata": {},
   "source": [
    "Рассмотрим поле light отображающее время суток, когда произошло ДТП"
   ]
  },
  {
   "cell_type": "code",
   "execution_count": 48,
   "id": "d0df8309",
   "metadata": {},
   "outputs": [
    {
     "data": {
      "text/plain": [
       "Светлое время суток                            56086\n",
       "В темное время суток, освещение включено       17989\n",
       "В темное время суток, освещение отсутствует    14588\n",
       "Сумерки                                         2826\n",
       "В темное время суток, освещение не включено     1093\n",
       "Не установлено                                     3\n",
       "Name: light, dtype: int64"
      ]
     },
     "execution_count": 48,
     "metadata": {},
     "output_type": "execute_result"
    }
   ],
   "source": [
    "dfFull.light.value_counts()"
   ]
  },
  {
   "cell_type": "code",
   "execution_count": 49,
   "id": "74c2688e",
   "metadata": {},
   "outputs": [],
   "source": [
    "d = {\n",
    "    \"Светлое время суток\": 0,\n",
    "    \"В темное время суток, освещение включено\": 1,\n",
    "    \"В темное время суток, освещение отсутствует\": 2,\n",
    "    \"Сумерки\": 3,\n",
    "    \"В темное время суток, освещение не включено\": 4,\n",
    "    \"Не установлено\": 5\n",
    "}\n",
    "\n",
    "dfFull.light = dfFull.light.map(d)"
   ]
  },
  {
   "cell_type": "code",
   "execution_count": 50,
   "id": "83628c48",
   "metadata": {},
   "outputs": [
    {
     "data": {
      "text/plain": [
       "0    56086\n",
       "1    17989\n",
       "2    14588\n",
       "3     2826\n",
       "4     1093\n",
       "5        3\n",
       "Name: light, dtype: int64"
      ]
     },
     "execution_count": 50,
     "metadata": {},
     "output_type": "execute_result"
    }
   ],
   "source": [
    "dfFull.light.value_counts()"
   ]
  },
  {
   "cell_type": "markdown",
   "id": "5dbad9bd",
   "metadata": {},
   "source": [
    "## Поле vehicles"
   ]
  },
  {
   "cell_type": "markdown",
   "id": "1053eac0",
   "metadata": {},
   "source": [
    "Рассмотрим поле vehicles отображающее данные об автомобиле и водителе участника ДТП"
   ]
  },
  {
   "cell_type": "code",
   "execution_count": 51,
   "id": "1d27a805",
   "metadata": {},
   "outputs": [
    {
     "data": {
      "text/plain": [
       "0    [ { \"brand\": \"NISSAN\", \"model\": \"Serena\", \"col...\n",
       "1    [ { \"brand\": \"ВАЗ\", \"model\": \"ВАЗ 2110, 21101,...\n",
       "2    [ { \"brand\": \"ВАЗ\", \"model\": \" Жигули  ВАЗ-210...\n",
       "3    [ { \"brand\": \"TOYOTA\", \"model\": \"Corolla\", \"co...\n",
       "4    [ { \"brand\": \"MAZDA\", \"model\": \"Mazda 3\", \"col...\n",
       "Name: vehicles, dtype: object"
      ]
     },
     "execution_count": 51,
     "metadata": {},
     "output_type": "execute_result"
    }
   ],
   "source": [
    "dfFull.vehicles.head()"
   ]
  },
  {
   "cell_type": "code",
   "execution_count": 52,
   "id": "aaa5bf40",
   "metadata": {},
   "outputs": [],
   "source": [
    "dfFull.drop(['vehicles'], axis=1, inplace=True)"
   ]
  },
  {
   "cell_type": "markdown",
   "id": "1984fb65",
   "metadata": {},
   "source": [
    "В данном поле содержется информация об автомобиле"
   ]
  },
  {
   "cell_type": "markdown",
   "id": "a33bbac8",
   "metadata": {},
   "source": [
    "## Поле datetime"
   ]
  },
  {
   "cell_type": "markdown",
   "id": "fc5c7bd2",
   "metadata": {},
   "source": [
    "Рассмотрим поле datetime отображающее дату и времы случившегося проишествия"
   ]
  },
  {
   "cell_type": "code",
   "execution_count": 53,
   "id": "d0851e20",
   "metadata": {},
   "outputs": [
    {
     "data": {
      "text/plain": [
       "0   2016-02-16 21:50:00\n",
       "1   2018-11-03 11:00:00\n",
       "2   2017-02-08 16:50:00\n",
       "3   2020-09-11 14:12:00\n",
       "4   2017-06-26 14:00:00\n",
       "Name: datetime, dtype: datetime64[ns]"
      ]
     },
     "execution_count": 53,
     "metadata": {},
     "output_type": "execute_result"
    }
   ],
   "source": [
    "dfFull.datetime.head()"
   ]
  },
  {
   "cell_type": "code",
   "execution_count": 54,
   "id": "ca8d0650",
   "metadata": {},
   "outputs": [],
   "source": [
    "dfFull.drop(['datetime'], axis=1, inplace=True)"
   ]
  },
  {
   "cell_type": "markdown",
   "id": "a70b64f8",
   "metadata": {},
   "source": [
    "## Поле scheme"
   ]
  },
  {
   "cell_type": "markdown",
   "id": "d6775872",
   "metadata": {},
   "source": [
    "Рассмотрим поле scheme "
   ]
  },
  {
   "cell_type": "code",
   "execution_count": 55,
   "id": "ac1c4a13",
   "metadata": {},
   "outputs": [
    {
     "data": {
      "text/plain": [
       "0    210\n",
       "1    220\n",
       "2    300\n",
       "3    430\n",
       "4    820\n",
       "Name: scheme, dtype: object"
      ]
     },
     "execution_count": 55,
     "metadata": {},
     "output_type": "execute_result"
    }
   ],
   "source": [
    "dfFull.scheme.head()"
   ]
  },
  {
   "cell_type": "code",
   "execution_count": 56,
   "id": "577f9a93",
   "metadata": {},
   "outputs": [],
   "source": [
    "dfFull.drop(['scheme'], axis=1, inplace=True)"
   ]
  },
  {
   "cell_type": "markdown",
   "id": "c341c9fa",
   "metadata": {},
   "source": [
    "# Визуализация"
   ]
  },
  {
   "cell_type": "code",
   "execution_count": 57,
   "id": "195fe12a",
   "metadata": {},
   "outputs": [],
   "source": [
    "import matplotlib.pyplot as plt\n",
    "import seaborn as sns"
   ]
  },
  {
   "cell_type": "code",
   "execution_count": 58,
   "id": "3862202e",
   "metadata": {},
   "outputs": [
    {
     "data": {
      "image/png": "[encoded data removed]",
      "text/plain": [
       "<Figure size 1500x1000 with 12 Axes>"
      ]
     },
     "metadata": {},
     "output_type": "display_data"
    }
   ],
   "source": [
    "dfFull.hist(figsize=(15,10), bins=50);"
   ]
  },
  {
   "cell_type": "markdown",
   "id": "4ce1fc33",
   "metadata": {},
   "source": [
    "## Создадим тепловую карту"
   ]
  },
  {
   "cell_type": "code",
   "execution_count": 59,
   "id": "5c0e3fc7",
   "metadata": {},
   "outputs": [
    {
     "data": {
      "text/plain": [
       "<AxesSubplot:>"
      ]
     },
     "execution_count": 59,
     "metadata": {},
     "output_type": "execute_result"
    },
    {
     "data": {
      "image/png": "[encoded data removed]",
      "text/plain": [
       "<Figure size 2000x1600 with 2 Axes>"
      ]
     },
     "metadata": {},
     "output_type": "display_data"
    }
   ],
   "source": [
    "plt.figure(figsize=(20,16))\n",
    "sns.heatmap(dfFull.corr(), annot=True, fmt=\".1f\")"
   ]
  },
  {
   "cell_type": "markdown",
   "id": "a1c71de0",
   "metadata": {},
   "source": [
    "## Кластеризация"
   ]
  },
  {
   "cell_type": "code",
   "execution_count": 60,
   "id": "83e42808",
   "metadata": {},
   "outputs": [
    {
     "data": {
      "text/html": [
       "<div>\n",
       "<style scoped>\n",
       "    .dataframe tbody tr th:only-of-type {\n",
       "        vertical-align: middle;\n",
       "    }\n",
       "\n",
       "    .dataframe tbody tr th {\n",
       "        vertical-align: top;\n",
       "    }\n",
       "\n",
       "    .dataframe thead th {\n",
       "        text-align: right;\n",
       "    }\n",
       "</style>\n",
       "<table border=\"1\" class=\"dataframe\">\n",
       "  <thead>\n",
       "    <tr style=\"text-align: right;\">\n",
       "      <th></th>\n",
       "      <th>lat</th>\n",
       "      <th>long</th>\n",
       "      <th>severity</th>\n",
       "      <th>region</th>\n",
       "      <th>parent_region</th>\n",
       "      <th>participants_count</th>\n",
       "      <th>injured_count</th>\n",
       "      <th>dead_count</th>\n",
       "      <th>category</th>\n",
       "      <th>light</th>\n",
       "    </tr>\n",
       "  </thead>\n",
       "  <tbody>\n",
       "    <tr>\n",
       "      <th>0</th>\n",
       "      <td>53.78</td>\n",
       "      <td>82.67</td>\n",
       "      <td>0</td>\n",
       "      <td>316</td>\n",
       "      <td>0</td>\n",
       "      <td>3</td>\n",
       "      <td>1</td>\n",
       "      <td>0</td>\n",
       "      <td>16</td>\n",
       "      <td>2</td>\n",
       "    </tr>\n",
       "    <tr>\n",
       "      <th>1</th>\n",
       "      <td>53.32</td>\n",
       "      <td>82.92</td>\n",
       "      <td>1</td>\n",
       "      <td>316</td>\n",
       "      <td>0</td>\n",
       "      <td>4</td>\n",
       "      <td>2</td>\n",
       "      <td>0</td>\n",
       "      <td>16</td>\n",
       "      <td>0</td>\n",
       "    </tr>\n",
       "    <tr>\n",
       "      <th>2</th>\n",
       "      <td>51.45</td>\n",
       "      <td>81.16</td>\n",
       "      <td>1</td>\n",
       "      <td>381</td>\n",
       "      <td>0</td>\n",
       "      <td>3</td>\n",
       "      <td>1</td>\n",
       "      <td>0</td>\n",
       "      <td>16</td>\n",
       "      <td>0</td>\n",
       "    </tr>\n",
       "    <tr>\n",
       "      <th>3</th>\n",
       "      <td>53.05</td>\n",
       "      <td>83.84</td>\n",
       "      <td>0</td>\n",
       "      <td>325</td>\n",
       "      <td>0</td>\n",
       "      <td>3</td>\n",
       "      <td>1</td>\n",
       "      <td>0</td>\n",
       "      <td>16</td>\n",
       "      <td>0</td>\n",
       "    </tr>\n",
       "    <tr>\n",
       "      <th>4</th>\n",
       "      <td>53.17</td>\n",
       "      <td>83.42</td>\n",
       "      <td>1</td>\n",
       "      <td>22</td>\n",
       "      <td>0</td>\n",
       "      <td>2</td>\n",
       "      <td>1</td>\n",
       "      <td>0</td>\n",
       "      <td>9</td>\n",
       "      <td>0</td>\n",
       "    </tr>\n",
       "  </tbody>\n",
       "</table>\n",
       "</div>"
      ],
      "text/plain": [
       "     lat   long  severity  region  parent_region  participants_count  \\\n",
       "0  53.78  82.67         0     316              0                   3   \n",
       "1  53.32  82.92         1     316              0                   4   \n",
       "2  51.45  81.16         1     381              0                   3   \n",
       "3  53.05  83.84         0     325              0                   3   \n",
       "4  53.17  83.42         1      22              0                   2   \n",
       "\n",
       "   injured_count  dead_count  category  light  \n",
       "0              1           0        16      2  \n",
       "1              2           0        16      0  \n",
       "2              1           0        16      0  \n",
       "3              1           0        16      0  \n",
       "4              1           0         9      0  "
      ]
     },
     "execution_count": 60,
     "metadata": {},
     "output_type": "execute_result"
    }
   ],
   "source": [
    "dfFull.head()"
   ]
  },
  {
   "cell_type": "code",
   "execution_count": 61,
   "id": "d4dc0bfa",
   "metadata": {},
   "outputs": [],
   "source": [
    "from sklearn.cluster import KMeans"
   ]
  },
  {
   "cell_type": "code",
   "execution_count": 62,
   "id": "3eac9d80",
   "metadata": {},
   "outputs": [
    {
     "data": {
      "text/plain": [
       "53.32"
      ]
     },
     "execution_count": 62,
     "metadata": {},
     "output_type": "execute_result"
    }
   ],
   "source": [
    "def toFixed(numObj, digits=0):\n",
    "    return f\"{numObj:.{digits}f}\"\n",
    "numObj = dfFull.lat[1]\n",
    "toFixed(numObj, 2)\n",
    "numObj"
   ]
  },
  {
   "cell_type": "code",
   "execution_count": 63,
   "id": "342554e4",
   "metadata": {},
   "outputs": [
    {
     "data": {
      "text/plain": [
       "lat                   0\n",
       "long                  0\n",
       "severity              0\n",
       "region                0\n",
       "parent_region         0\n",
       "participants_count    0\n",
       "injured_count         0\n",
       "dead_count            0\n",
       "category              0\n",
       "light                 0\n",
       "dtype: int64"
      ]
     },
     "execution_count": 63,
     "metadata": {},
     "output_type": "execute_result"
    }
   ],
   "source": [
    "dfFull.isna().sum()"
   ]
  },
  {
   "cell_type": "code",
   "execution_count": 65,
   "id": "30505224",
   "metadata": {},
   "outputs": [
    {
     "data": {
      "text/plain": [
       "92585"
      ]
     },
     "execution_count": 65,
     "metadata": {},
     "output_type": "execute_result"
    }
   ],
   "source": [
    "dfFull.shape[0]"
   ]
  },
  {
   "cell_type": "code",
   "execution_count": 66,
   "id": "11279329",
   "metadata": {
    "scrolled": true
   },
   "outputs": [
    {
     "data": {
      "text/html": [
       "<div>\n",
       "<style scoped>\n",
       "    .dataframe tbody tr th:only-of-type {\n",
       "        vertical-align: middle;\n",
       "    }\n",
       "\n",
       "    .dataframe tbody tr th {\n",
       "        vertical-align: top;\n",
       "    }\n",
       "\n",
       "    .dataframe thead th {\n",
       "        text-align: right;\n",
       "    }\n",
       "</style>\n",
       "<table border=\"1\" class=\"dataframe\">\n",
       "  <thead>\n",
       "    <tr style=\"text-align: right;\">\n",
       "      <th></th>\n",
       "      <th>lat</th>\n",
       "      <th>long</th>\n",
       "      <th>severity</th>\n",
       "      <th>region</th>\n",
       "      <th>parent_region</th>\n",
       "      <th>participants_count</th>\n",
       "      <th>injured_count</th>\n",
       "      <th>dead_count</th>\n",
       "      <th>category</th>\n",
       "      <th>light</th>\n",
       "    </tr>\n",
       "  </thead>\n",
       "  <tbody>\n",
       "    <tr>\n",
       "      <th>0</th>\n",
       "      <td>53.78</td>\n",
       "      <td>82.67</td>\n",
       "      <td>0</td>\n",
       "      <td>316</td>\n",
       "      <td>0</td>\n",
       "      <td>3</td>\n",
       "      <td>1</td>\n",
       "      <td>0</td>\n",
       "      <td>16</td>\n",
       "      <td>2</td>\n",
       "    </tr>\n",
       "    <tr>\n",
       "      <th>1</th>\n",
       "      <td>53.32</td>\n",
       "      <td>82.92</td>\n",
       "      <td>1</td>\n",
       "      <td>316</td>\n",
       "      <td>0</td>\n",
       "      <td>4</td>\n",
       "      <td>2</td>\n",
       "      <td>0</td>\n",
       "      <td>16</td>\n",
       "      <td>0</td>\n",
       "    </tr>\n",
       "    <tr>\n",
       "      <th>2</th>\n",
       "      <td>51.45</td>\n",
       "      <td>81.16</td>\n",
       "      <td>1</td>\n",
       "      <td>381</td>\n",
       "      <td>0</td>\n",
       "      <td>3</td>\n",
       "      <td>1</td>\n",
       "      <td>0</td>\n",
       "      <td>16</td>\n",
       "      <td>0</td>\n",
       "    </tr>\n",
       "    <tr>\n",
       "      <th>3</th>\n",
       "      <td>53.05</td>\n",
       "      <td>83.84</td>\n",
       "      <td>0</td>\n",
       "      <td>325</td>\n",
       "      <td>0</td>\n",
       "      <td>3</td>\n",
       "      <td>1</td>\n",
       "      <td>0</td>\n",
       "      <td>16</td>\n",
       "      <td>0</td>\n",
       "    </tr>\n",
       "    <tr>\n",
       "      <th>4</th>\n",
       "      <td>53.17</td>\n",
       "      <td>83.42</td>\n",
       "      <td>1</td>\n",
       "      <td>22</td>\n",
       "      <td>0</td>\n",
       "      <td>2</td>\n",
       "      <td>1</td>\n",
       "      <td>0</td>\n",
       "      <td>9</td>\n",
       "      <td>0</td>\n",
       "    </tr>\n",
       "    <tr>\n",
       "      <th>...</th>\n",
       "      <td>...</td>\n",
       "      <td>...</td>\n",
       "      <td>...</td>\n",
       "      <td>...</td>\n",
       "      <td>...</td>\n",
       "      <td>...</td>\n",
       "      <td>...</td>\n",
       "      <td>...</td>\n",
       "      <td>...</td>\n",
       "      <td>...</td>\n",
       "    </tr>\n",
       "    <tr>\n",
       "      <th>103810</th>\n",
       "      <td>52.37</td>\n",
       "      <td>115.53</td>\n",
       "      <td>1</td>\n",
       "      <td>512</td>\n",
       "      <td>11</td>\n",
       "      <td>2</td>\n",
       "      <td>1</td>\n",
       "      <td>0</td>\n",
       "      <td>9</td>\n",
       "      <td>0</td>\n",
       "    </tr>\n",
       "    <tr>\n",
       "      <th>103811</th>\n",
       "      <td>52.35</td>\n",
       "      <td>115.55</td>\n",
       "      <td>1</td>\n",
       "      <td>512</td>\n",
       "      <td>11</td>\n",
       "      <td>2</td>\n",
       "      <td>1</td>\n",
       "      <td>0</td>\n",
       "      <td>9</td>\n",
       "      <td>0</td>\n",
       "    </tr>\n",
       "    <tr>\n",
       "      <th>103812</th>\n",
       "      <td>52.37</td>\n",
       "      <td>115.54</td>\n",
       "      <td>1</td>\n",
       "      <td>512</td>\n",
       "      <td>11</td>\n",
       "      <td>1</td>\n",
       "      <td>1</td>\n",
       "      <td>0</td>\n",
       "      <td>12</td>\n",
       "      <td>2</td>\n",
       "    </tr>\n",
       "    <tr>\n",
       "      <th>103813</th>\n",
       "      <td>52.35</td>\n",
       "      <td>115.52</td>\n",
       "      <td>1</td>\n",
       "      <td>512</td>\n",
       "      <td>11</td>\n",
       "      <td>1</td>\n",
       "      <td>1</td>\n",
       "      <td>0</td>\n",
       "      <td>12</td>\n",
       "      <td>0</td>\n",
       "    </tr>\n",
       "    <tr>\n",
       "      <th>103814</th>\n",
       "      <td>52.75</td>\n",
       "      <td>115.52</td>\n",
       "      <td>0</td>\n",
       "      <td>512</td>\n",
       "      <td>11</td>\n",
       "      <td>1</td>\n",
       "      <td>1</td>\n",
       "      <td>0</td>\n",
       "      <td>12</td>\n",
       "      <td>0</td>\n",
       "    </tr>\n",
       "  </tbody>\n",
       "</table>\n",
       "<p>92585 rows × 10 columns</p>\n",
       "</div>"
      ],
      "text/plain": [
       "          lat    long  severity  region  parent_region  participants_count  \\\n",
       "0       53.78   82.67         0     316              0                   3   \n",
       "1       53.32   82.92         1     316              0                   4   \n",
       "2       51.45   81.16         1     381              0                   3   \n",
       "3       53.05   83.84         0     325              0                   3   \n",
       "4       53.17   83.42         1      22              0                   2   \n",
       "...       ...     ...       ...     ...            ...                 ...   \n",
       "103810  52.37  115.53         1     512             11                   2   \n",
       "103811  52.35  115.55         1     512             11                   2   \n",
       "103812  52.37  115.54         1     512             11                   1   \n",
       "103813  52.35  115.52         1     512             11                   1   \n",
       "103814  52.75  115.52         0     512             11                   1   \n",
       "\n",
       "        injured_count  dead_count  category  light  \n",
       "0                   1           0        16      2  \n",
       "1                   2           0        16      0  \n",
       "2                   1           0        16      0  \n",
       "3                   1           0        16      0  \n",
       "4                   1           0         9      0  \n",
       "...               ...         ...       ...    ...  \n",
       "103810              1           0         9      0  \n",
       "103811              1           0         9      0  \n",
       "103812              1           0        12      2  \n",
       "103813              1           0        12      0  \n",
       "103814              1           0        12      0  \n",
       "\n",
       "[92585 rows x 10 columns]"
      ]
     },
     "execution_count": 66,
     "metadata": {},
     "output_type": "execute_result"
    }
   ],
   "source": [
    "dfFull"
   ]
  },
  {
   "cell_type": "code",
   "execution_count": 67,
   "id": "a3e8d994",
   "metadata": {},
   "outputs": [
    {
     "data": {
      "text/plain": [
       "0      53.78\n",
       "1      53.32\n",
       "2      51.45\n",
       "3      53.05\n",
       "4      53.17\n",
       "       ...  \n",
       "258    53.36\n",
       "259    52.37\n",
       "260    52.09\n",
       "262    53.38\n",
       "263    53.34\n",
       "Name: lat, Length: 263, dtype: float64"
      ]
     },
     "execution_count": 67,
     "metadata": {},
     "output_type": "execute_result"
    }
   ],
   "source": [
    "dfFull.lat.head(263)"
   ]
  },
  {
   "cell_type": "code",
   "execution_count": 69,
   "id": "cbc8b550",
   "metadata": {},
   "outputs": [],
   "source": [
    "kmeans = KMeans(n_clusters=3, random_state=0)"
   ]
  },
  {
   "cell_type": "code",
   "execution_count": 70,
   "id": "e8e1e399",
   "metadata": {},
   "outputs": [
    {
     "data": {
      "text/plain": [
       "KMeans(n_clusters=3, random_state=0)"
      ]
     },
     "execution_count": 70,
     "metadata": {},
     "output_type": "execute_result"
    }
   ],
   "source": [
    "kmeans.fit(dfFull)"
   ]
  },
  {
   "cell_type": "code",
   "execution_count": 71,
   "id": "a3e2c82c",
   "metadata": {},
   "outputs": [
    {
     "data": {
      "text/plain": [
       "array([2, 2, 2, ..., 0, 0, 0])"
      ]
     },
     "execution_count": 71,
     "metadata": {},
     "output_type": "execute_result"
    }
   ],
   "source": [
    "kmeans.labels_"
   ]
  },
  {
   "cell_type": "code",
   "execution_count": 72,
   "id": "61410c9b",
   "metadata": {},
   "outputs": [],
   "source": [
    "y = kmeans.labels_"
   ]
  },
  {
   "cell_type": "code",
   "execution_count": 73,
   "id": "084e0fcb",
   "metadata": {},
   "outputs": [],
   "source": [
    "x = dfFull.values"
   ]
  },
  {
   "cell_type": "code",
   "execution_count": 74,
   "id": "128e5c60",
   "metadata": {},
   "outputs": [
    {
     "data": {
      "text/plain": [
       "<function matplotlib.pyplot.show(close=None, block=None)>"
      ]
     },
     "execution_count": 74,
     "metadata": {},
     "output_type": "execute_result"
    },
    {
     "data": {
      "image/png": "[encoded data removed]",
      "text/plain": [
       "<Figure size 1500x1000 with 1 Axes>"
      ]
     },
     "metadata": {},
     "output_type": "display_data"
    }
   ],
   "source": [
    "plt.rcParams[\"figure.figsize\"] = (15,10)\n",
    "\n",
    "plt.scatter(x[y == 0,0],x[y == 0,1],s=100,c='blue', label='Cluster 1')\n",
    "plt.scatter(x[y == 1,0],x[y == 1,1],s=100,c='red', label='Cluster 2')\n",
    "plt.scatter(x[y == 2,0],x[y == 2,1],s=100,c='orange', label='Cluster 3')\n",
    "\n",
    "plt.scatter(kmeans.cluster_centers_[:,0],kmeans.cluster_centers_[:,1],marker=\"*\",s=100,c='black', label='Centers')\n",
    "\n",
    "plt.title('Clusters')\n",
    "plt.xlabel('x')\n",
    "plt.ylabel(\"y\")\n",
    "plt.legend()\n",
    "plt.show"
   ]
  },
  {
   "cell_type": "markdown",
   "id": "5566aeb5",
   "metadata": {},
   "source": [
    "# Обучение моделей"
   ]
  },
  {
   "cell_type": "markdown",
   "id": "5f62926c",
   "metadata": {},
   "source": [
    "## Подготовка данных\n"
   ]
  },
  {
   "cell_type": "code",
   "execution_count": 75,
   "id": "2e6215a9",
   "metadata": {},
   "outputs": [],
   "source": [
    "from sklearn.model_selection import train_test_split"
   ]
  },
  {
   "cell_type": "code",
   "execution_count": 76,
   "id": "2029c306",
   "metadata": {},
   "outputs": [],
   "source": [
    "x = dfFull.copy()"
   ]
  },
  {
   "cell_type": "code",
   "execution_count": 77,
   "id": "cf7727bc",
   "metadata": {},
   "outputs": [],
   "source": [
    "x_train, x_test, y_train, y_test = train_test_split(x, y, test_size = 0.3, random_state = 1, stratify = y)"
   ]
  },
  {
   "cell_type": "code",
   "execution_count": 78,
   "id": "f5436bd5",
   "metadata": {},
   "outputs": [],
   "source": [
    "from sklearn.metrics import accuracy_score, classification_report, confusion_matrix"
   ]
  },
  {
   "cell_type": "markdown",
   "id": "5e6bfefa",
   "metadata": {},
   "source": [
    "## Дерево решений"
   ]
  },
  {
   "cell_type": "code",
   "execution_count": 79,
   "id": "5bbd5aeb",
   "metadata": {},
   "outputs": [],
   "source": [
    "from sklearn.tree import DecisionTreeClassifier"
   ]
  },
  {
   "cell_type": "code",
   "execution_count": 80,
   "id": "95f21a21",
   "metadata": {},
   "outputs": [],
   "source": [
    "clf = DecisionTreeClassifier(random_state=1)"
   ]
  },
  {
   "cell_type": "code",
   "execution_count": 81,
   "id": "d0d6d61f",
   "metadata": {},
   "outputs": [
    {
     "data": {
      "text/plain": [
       "DecisionTreeClassifier(random_state=1)"
      ]
     },
     "execution_count": 81,
     "metadata": {},
     "output_type": "execute_result"
    }
   ],
   "source": [
    "clf.fit(x_train, y_train)"
   ]
  },
  {
   "cell_type": "code",
   "execution_count": 82,
   "id": "20940644",
   "metadata": {},
   "outputs": [],
   "source": [
    "y_pred = clf.predict(x_test)"
   ]
  },
  {
   "cell_type": "code",
   "execution_count": 83,
   "id": "c8c40ca4",
   "metadata": {},
   "outputs": [
    {
     "data": {
      "text/plain": [
       "1.0"
      ]
     },
     "execution_count": 83,
     "metadata": {},
     "output_type": "execute_result"
    }
   ],
   "source": [
    "accuracy_score(y_test, y_pred)"
   ]
  },
  {
   "cell_type": "code",
   "execution_count": 84,
   "id": "48a16f1d",
   "metadata": {
    "scrolled": true
   },
   "outputs": [
    {
     "name": "stdout",
     "output_type": "stream",
     "text": [
      "              precision    recall  f1-score   support\n",
      "\n",
      "           0       1.00      1.00      1.00     11157\n",
      "           1       1.00      1.00      1.00      7266\n",
      "           2       1.00      1.00      1.00      9353\n",
      "\n",
      "    accuracy                           1.00     27776\n",
      "   macro avg       1.00      1.00      1.00     27776\n",
      "weighted avg       1.00      1.00      1.00     27776\n",
      "\n"
     ]
    }
   ],
   "source": [
    "print(classification_report(y_test, y_pred))"
   ]
  },
  {
   "cell_type": "markdown",
   "id": "f29dbfba",
   "metadata": {},
   "source": [
    "## Случайный лес"
   ]
  },
  {
   "cell_type": "code",
   "execution_count": 85,
   "id": "ecd5f9c2",
   "metadata": {},
   "outputs": [],
   "source": [
    "from sklearn.ensemble import RandomForestClassifier\n",
    "rf_cls = RandomForestClassifier(n_estimators=300, random_state = 1)"
   ]
  },
  {
   "cell_type": "code",
   "execution_count": 86,
   "id": "069d36cd",
   "metadata": {},
   "outputs": [
    {
     "data": {
      "text/plain": [
       "RandomForestClassifier(n_estimators=300, random_state=1)"
      ]
     },
     "execution_count": 86,
     "metadata": {},
     "output_type": "execute_result"
    }
   ],
   "source": [
    "rf_cls.fit(x_train, y_train)"
   ]
  },
  {
   "cell_type": "code",
   "execution_count": 87,
   "id": "d06bc1fa",
   "metadata": {},
   "outputs": [],
   "source": [
    "y_pred = rf_cls.predict(x_test)"
   ]
  },
  {
   "cell_type": "code",
   "execution_count": 88,
   "id": "d462ec5f",
   "metadata": {},
   "outputs": [
    {
     "data": {
      "text/plain": [
       "1.0"
      ]
     },
     "execution_count": 88,
     "metadata": {},
     "output_type": "execute_result"
    }
   ],
   "source": [
    "accuracy_score(y_test, y_pred)"
   ]
  },
  {
   "cell_type": "code",
   "execution_count": 89,
   "id": "b5a4c5e5",
   "metadata": {},
   "outputs": [
    {
     "name": "stdout",
     "output_type": "stream",
     "text": [
      "              precision    recall  f1-score   support\n",
      "\n",
      "           0       1.00      1.00      1.00     11157\n",
      "           1       1.00      1.00      1.00      7266\n",
      "           2       1.00      1.00      1.00      9353\n",
      "\n",
      "    accuracy                           1.00     27776\n",
      "   macro avg       1.00      1.00      1.00     27776\n",
      "weighted avg       1.00      1.00      1.00     27776\n",
      "\n"
     ]
    }
   ],
   "source": [
    "print(classification_report(y_test, y_pred))"
   ]
  },
  {
   "cell_type": "code",
   "execution_count": 96,
   "id": "9e71fb93",
   "metadata": {},
   "outputs": [
    {
     "name": "stderr",
     "output_type": "stream",
     "text": [
      "UsageError: %%timeit is a cell magic, but the cell body is empty. Did you mean the line magic %timeit (single %)?\n"
     ]
    }
   ],
   "source": [
    "%%timeit"
   ]
  },
  {
   "cell_type": "code",
   "execution_count": 97,
   "id": "c2a89512",
   "metadata": {},
   "outputs": [
    {
     "name": "stdout",
     "output_type": "stream",
     "text": [
      "              precision    recall  f1-score   support\n",
      "\n",
      "           0       1.00      1.00      1.00     11157\n",
      "           1       1.00      1.00      1.00      7266\n",
      "           2       1.00      1.00      1.00      9353\n",
      "\n",
      "    accuracy                           1.00     27776\n",
      "   macro avg       1.00      1.00      1.00     27776\n",
      "weighted avg       1.00      1.00      1.00     27776\n",
      "\n"
     ]
    }
   ],
   "source": [
    "rf_cls = RandomForestClassifier(n_estimators=300, random_state = 1)\n",
    "\n",
    "from sklearn.model_selection import GridSearchCV\n",
    "\n",
    "params = {\"n_estimators\": [100,200,300,400,500]} \n",
    "# словарь с гиперпараметрами\n",
    "\n",
    "grid = GridSearchCV(rf_cls, params, cv = 5, n_jobs = -1)\n",
    "\n",
    "grid.fit(x_train, y_train) # обучение на кросс-валидации\n",
    "\n",
    "grid.best_params_ # параметры лучшей модели\n",
    "\n",
    "best_rf_cls = grid.best_estimator_ # лучший алгоритм\n",
    "\n",
    "y_pred = best_rf_cls.predict(x_test)\n",
    "\n",
    "accuracy_score(y_test, y_pred)\n",
    "\n",
    "print(classification_report(y_test, y_pred))"
   ]
  },
  {
   "cell_type": "code",
   "execution_count": null,
   "id": "5905111c",
   "metadata": {},
   "outputs": [],
   "source": []
  }
 ],
 "metadata": {
  "kernelspec": {
   "display_name": "Python 3 (ipykernel)",
   "language": "python",
   "name": "python3"
  },
  "language_info": {
   "codemirror_mode": {
    "name": "ipython",
    "version": 3
   },
   "file_extension": ".py",
   "mimetype": "text/x-python",
   "name": "python",
   "nbconvert_exporter": "python",
   "pygments_lexer": "ipython3",
   "version": "3.9.13"
  }
 },
 "nbformat": 4,
 "nbformat_minor": 5
}
